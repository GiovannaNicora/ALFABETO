{
  "nbformat": 4,
  "nbformat_minor": 0,
  "metadata": {
    "colab": {
      "name": "Copia di ALFABETO_home_hosp_giovanna.ipynb",
      "provenance": [],
      "collapsed_sections": [],
      "toc_visible": true
    },
    "kernelspec": {
      "display_name": "Python 3",
      "name": "python3"
    },
    "language_info": {
      "name": "python"
    }
  },
  "cells": [
    {
      "cell_type": "code",
      "metadata": {
        "colab": {
          "base_uri": "https://localhost:8080/"
        },
        "id": "Bp0Ljx2hCFDV",
        "outputId": "0d8a9e55-a004-47a2-a4df-543a1d9853a4"
      },
      "source": [
        "%env PYTHONHASHSEED=42\n",
        "\n",
        "!pip install pydrive                             # Package to use Google Drive API - not installed in Colab VM by default\n",
        "from pydrive.auth import GoogleAuth\n",
        "from pydrive.drive import GoogleDrive\n",
        "\n",
        "from google.colab import drive\n",
        "ROOT_PATH = '/content/drive'\n",
        "drive.mount(ROOT_PATH)\n",
        "ROOT_PATH += '/My Drive/ALFABETO/'"
      ],
      "execution_count": null,
      "outputs": [
        {
          "output_type": "stream",
          "name": "stdout",
          "text": [
            "env: PYTHONHASHSEED=42\n",
            "Requirement already satisfied: pydrive in /usr/local/lib/python3.7/dist-packages (1.3.1)\n",
            "Requirement already satisfied: PyYAML>=3.0 in /usr/local/lib/python3.7/dist-packages (from pydrive) (3.13)\n",
            "Requirement already satisfied: oauth2client>=4.0.0 in /usr/local/lib/python3.7/dist-packages (from pydrive) (4.1.3)\n",
            "Requirement already satisfied: google-api-python-client>=1.2 in /usr/local/lib/python3.7/dist-packages (from pydrive) (1.12.8)\n",
            "Requirement already satisfied: uritemplate<4dev,>=3.0.0 in /usr/local/lib/python3.7/dist-packages (from google-api-python-client>=1.2->pydrive) (3.0.1)\n",
            "Requirement already satisfied: six<2dev,>=1.13.0 in /usr/local/lib/python3.7/dist-packages (from google-api-python-client>=1.2->pydrive) (1.15.0)\n",
            "Requirement already satisfied: google-api-core<2dev,>=1.21.0 in /usr/local/lib/python3.7/dist-packages (from google-api-python-client>=1.2->pydrive) (1.26.3)\n",
            "Requirement already satisfied: google-auth>=1.16.0 in /usr/local/lib/python3.7/dist-packages (from google-api-python-client>=1.2->pydrive) (1.35.0)\n",
            "Requirement already satisfied: httplib2<1dev,>=0.15.0 in /usr/local/lib/python3.7/dist-packages (from google-api-python-client>=1.2->pydrive) (0.17.4)\n",
            "Requirement already satisfied: google-auth-httplib2>=0.0.3 in /usr/local/lib/python3.7/dist-packages (from google-api-python-client>=1.2->pydrive) (0.0.4)\n",
            "Requirement already satisfied: protobuf>=3.12.0 in /usr/local/lib/python3.7/dist-packages (from google-api-core<2dev,>=1.21.0->google-api-python-client>=1.2->pydrive) (3.17.3)\n",
            "Requirement already satisfied: googleapis-common-protos<2.0dev,>=1.6.0 in /usr/local/lib/python3.7/dist-packages (from google-api-core<2dev,>=1.21.0->google-api-python-client>=1.2->pydrive) (1.53.0)\n",
            "Requirement already satisfied: setuptools>=40.3.0 in /usr/local/lib/python3.7/dist-packages (from google-api-core<2dev,>=1.21.0->google-api-python-client>=1.2->pydrive) (57.4.0)\n",
            "Requirement already satisfied: packaging>=14.3 in /usr/local/lib/python3.7/dist-packages (from google-api-core<2dev,>=1.21.0->google-api-python-client>=1.2->pydrive) (21.0)\n",
            "Requirement already satisfied: pytz in /usr/local/lib/python3.7/dist-packages (from google-api-core<2dev,>=1.21.0->google-api-python-client>=1.2->pydrive) (2018.9)\n",
            "Requirement already satisfied: requests<3.0.0dev,>=2.18.0 in /usr/local/lib/python3.7/dist-packages (from google-api-core<2dev,>=1.21.0->google-api-python-client>=1.2->pydrive) (2.23.0)\n",
            "Requirement already satisfied: cachetools<5.0,>=2.0.0 in /usr/local/lib/python3.7/dist-packages (from google-auth>=1.16.0->google-api-python-client>=1.2->pydrive) (4.2.4)\n",
            "Requirement already satisfied: rsa<5,>=3.1.4 in /usr/local/lib/python3.7/dist-packages (from google-auth>=1.16.0->google-api-python-client>=1.2->pydrive) (4.7.2)\n",
            "Requirement already satisfied: pyasn1-modules>=0.2.1 in /usr/local/lib/python3.7/dist-packages (from google-auth>=1.16.0->google-api-python-client>=1.2->pydrive) (0.2.8)\n",
            "Requirement already satisfied: pyasn1>=0.1.7 in /usr/local/lib/python3.7/dist-packages (from oauth2client>=4.0.0->pydrive) (0.4.8)\n",
            "Requirement already satisfied: pyparsing>=2.0.2 in /usr/local/lib/python3.7/dist-packages (from packaging>=14.3->google-api-core<2dev,>=1.21.0->google-api-python-client>=1.2->pydrive) (2.4.7)\n",
            "Requirement already satisfied: chardet<4,>=3.0.2 in /usr/local/lib/python3.7/dist-packages (from requests<3.0.0dev,>=2.18.0->google-api-core<2dev,>=1.21.0->google-api-python-client>=1.2->pydrive) (3.0.4)\n",
            "Requirement already satisfied: idna<3,>=2.5 in /usr/local/lib/python3.7/dist-packages (from requests<3.0.0dev,>=2.18.0->google-api-core<2dev,>=1.21.0->google-api-python-client>=1.2->pydrive) (2.10)\n",
            "Requirement already satisfied: certifi>=2017.4.17 in /usr/local/lib/python3.7/dist-packages (from requests<3.0.0dev,>=2.18.0->google-api-core<2dev,>=1.21.0->google-api-python-client>=1.2->pydrive) (2021.5.30)\n",
            "Requirement already satisfied: urllib3!=1.25.0,!=1.25.1,<1.26,>=1.21.1 in /usr/local/lib/python3.7/dist-packages (from requests<3.0.0dev,>=2.18.0->google-api-core<2dev,>=1.21.0->google-api-python-client>=1.2->pydrive) (1.24.3)\n",
            "Mounted at /content/drive\n"
          ]
        }
      ]
    },
    {
      "cell_type": "code",
      "metadata": {
        "id": "EHbSLFsr9mQ1"
      },
      "source": [
        "import os\n",
        "import numpy as np\n",
        "import random\n",
        "# Seed value\n",
        "# Apparently you may use different seed values at each stage\n",
        "seed_value = 42\n",
        "\n",
        "# 1. Set the `PYTHONHASHSEED` environment variable at a fixed value\n",
        "#os.environ['PYTHONHASHSEED']=str(seed_value)\n",
        "\n",
        "# 2. Set the `python` built-in pseudo-random generator at a fixed value\n",
        "random.seed(seed_value)\n",
        "\n",
        "# 3. Set the `numpy` pseudo-random generator at a fixed value\n",
        "np.random.seed(seed_value)"
      ],
      "execution_count": null,
      "outputs": []
    },
    {
      "cell_type": "code",
      "metadata": {
        "colab": {
          "base_uri": "https://localhost:8080/"
        },
        "id": "lyBzaBPHDSvl",
        "outputId": "4ed1dc0c-75a3-4ae2-b8f9-5a8d0e17587a"
      },
      "source": [
        "from google.colab import drive\n",
        "drive.mount('/content/drive')"
      ],
      "execution_count": null,
      "outputs": [
        {
          "output_type": "stream",
          "name": "stdout",
          "text": [
            "Drive already mounted at /content/drive; to attempt to forcibly remount, call drive.mount(\"/content/drive\", force_remount=True).\n"
          ]
        }
      ]
    },
    {
      "cell_type": "markdown",
      "metadata": {
        "id": "aDUvwiaJC--R"
      },
      "source": [
        "\n",
        "\n",
        "**AIM: predict hospitalization **"
      ]
    },
    {
      "cell_type": "code",
      "metadata": {
        "id": "RtNc8aOGDC-A"
      },
      "source": [
        "import pandas as pd\n",
        "from sklearn.metrics import *\n",
        "import seaborn as sns\n",
        "import matplotlib.pyplot as plt"
      ],
      "execution_count": null,
      "outputs": []
    },
    {
      "cell_type": "markdown",
      "metadata": {
        "id": "tFvt15N7lHVi"
      },
      "source": [
        "### Training set"
      ]
    },
    {
      "cell_type": "code",
      "metadata": {
        "colab": {
          "base_uri": "https://localhost:8080/",
          "height": 226
        },
        "id": "W_N-zRdPlJxZ",
        "outputId": "636b1763-0f5a-4560-ea3f-c60aa0c92dd7"
      },
      "source": [
        "df_training = pd.read_excel(ROOT_PATH + 'training_con_probabilita+gravità_prognosi.xlsx',\n",
        "                            index_col=0)\n",
        "df_training.head()"
      ],
      "execution_count": null,
      "outputs": [
        {
          "output_type": "execute_result",
          "data": {
            "text/html": [
              "<div>\n",
              "<style scoped>\n",
              "    .dataframe tbody tr th:only-of-type {\n",
              "        vertical-align: middle;\n",
              "    }\n",
              "\n",
              "    .dataframe tbody tr th {\n",
              "        vertical-align: top;\n",
              "    }\n",
              "\n",
              "    .dataframe thead th {\n",
              "        text-align: right;\n",
              "    }\n",
              "</style>\n",
              "<table border=\"1\" class=\"dataframe\">\n",
              "  <thead>\n",
              "    <tr style=\"text-align: right;\">\n",
              "      <th></th>\n",
              "      <th>Bpco</th>\n",
              "      <th>CancroAttivoNegliUltimi5Anni</th>\n",
              "      <th>CardiopatiaIschemica</th>\n",
              "      <th>ComorbiditaMaggioreDue</th>\n",
              "      <th>Consolidation</th>\n",
              "      <th>Demenza</th>\n",
              "      <th>DiabeteMellitoTipo2</th>\n",
              "      <th>DifficoltaRespiratorie</th>\n",
              "      <th>Edema</th>\n",
              "      <th>Effusion</th>\n",
              "      <th>Eta</th>\n",
              "      <th>FibrillazioneAtriale</th>\n",
              "      <th>Giorni</th>\n",
              "      <th>Ictus</th>\n",
              "      <th>Infiltration</th>\n",
              "      <th>InsufficienzaRenaleCronica</th>\n",
              "      <th>InsufficienzaRespiratoria</th>\n",
              "      <th>IpertensioneArteriosa</th>\n",
              "      <th>LungOpacity</th>\n",
              "      <th>PatologieCardiovascolari</th>\n",
              "      <th>Pcr</th>\n",
              "      <th>Saturazione</th>\n",
              "      <th>ScompensoCardiaco</th>\n",
              "      <th>Sesso</th>\n",
              "      <th>Temperatura</th>\n",
              "      <th>Tosse</th>\n",
              "      <th>Wbc</th>\n",
              "      <th>Prognosi</th>\n",
              "      <th>GravitàPrognosi</th>\n",
              "      <th>Predizione</th>\n",
              "      <th>P_casa</th>\n",
              "      <th>P_ospedale</th>\n",
              "    </tr>\n",
              "  </thead>\n",
              "  <tbody>\n",
              "    <tr>\n",
              "      <th>0</th>\n",
              "      <td>0.0</td>\n",
              "      <td>0.0</td>\n",
              "      <td>0.0</td>\n",
              "      <td>1.0</td>\n",
              "      <td>0.530</td>\n",
              "      <td>0.0</td>\n",
              "      <td>0.0</td>\n",
              "      <td>1.0</td>\n",
              "      <td>0.512</td>\n",
              "      <td>0.277</td>\n",
              "      <td>72</td>\n",
              "      <td>0.0</td>\n",
              "      <td>NaN</td>\n",
              "      <td>0.0</td>\n",
              "      <td>0.542</td>\n",
              "      <td>0.0</td>\n",
              "      <td>1.0</td>\n",
              "      <td>1.0</td>\n",
              "      <td>0.797</td>\n",
              "      <td>1.0</td>\n",
              "      <td>26.06</td>\n",
              "      <td>NaN</td>\n",
              "      <td>0.0</td>\n",
              "      <td>M</td>\n",
              "      <td>NaN</td>\n",
              "      <td>1.0</td>\n",
              "      <td>12.40</td>\n",
              "      <td>Hospital</td>\n",
              "      <td>2</td>\n",
              "      <td>Hospital</td>\n",
              "      <td>0.2909</td>\n",
              "      <td>0.7091</td>\n",
              "    </tr>\n",
              "    <tr>\n",
              "      <th>1</th>\n",
              "      <td>0.0</td>\n",
              "      <td>0.0</td>\n",
              "      <td>1.0</td>\n",
              "      <td>1.0</td>\n",
              "      <td>0.564</td>\n",
              "      <td>1.0</td>\n",
              "      <td>1.0</td>\n",
              "      <td>1.0</td>\n",
              "      <td>0.528</td>\n",
              "      <td>0.279</td>\n",
              "      <td>88</td>\n",
              "      <td>0.0</td>\n",
              "      <td>NaN</td>\n",
              "      <td>0.0</td>\n",
              "      <td>0.810</td>\n",
              "      <td>1.0</td>\n",
              "      <td>0.0</td>\n",
              "      <td>1.0</td>\n",
              "      <td>0.966</td>\n",
              "      <td>1.0</td>\n",
              "      <td>12.00</td>\n",
              "      <td>78.0</td>\n",
              "      <td>0.0</td>\n",
              "      <td>M</td>\n",
              "      <td>36.1</td>\n",
              "      <td>0.0</td>\n",
              "      <td>5.10</td>\n",
              "      <td>Hospital</td>\n",
              "      <td>2</td>\n",
              "      <td>Hospital</td>\n",
              "      <td>0.2904</td>\n",
              "      <td>0.7096</td>\n",
              "    </tr>\n",
              "    <tr>\n",
              "      <th>2</th>\n",
              "      <td>0.0</td>\n",
              "      <td>0.0</td>\n",
              "      <td>0.0</td>\n",
              "      <td>0.0</td>\n",
              "      <td>0.082</td>\n",
              "      <td>0.0</td>\n",
              "      <td>0.0</td>\n",
              "      <td>1.0</td>\n",
              "      <td>0.003</td>\n",
              "      <td>0.037</td>\n",
              "      <td>61</td>\n",
              "      <td>0.0</td>\n",
              "      <td>2.0</td>\n",
              "      <td>0.0</td>\n",
              "      <td>0.433</td>\n",
              "      <td>0.0</td>\n",
              "      <td>0.0</td>\n",
              "      <td>1.0</td>\n",
              "      <td>0.091</td>\n",
              "      <td>0.0</td>\n",
              "      <td>3.01</td>\n",
              "      <td>97.0</td>\n",
              "      <td>0.0</td>\n",
              "      <td>M</td>\n",
              "      <td>38.4</td>\n",
              "      <td>0.0</td>\n",
              "      <td>3.10</td>\n",
              "      <td>Home</td>\n",
              "      <td>NaN</td>\n",
              "      <td>Home</td>\n",
              "      <td>0.7106</td>\n",
              "      <td>0.2894</td>\n",
              "    </tr>\n",
              "    <tr>\n",
              "      <th>3</th>\n",
              "      <td>0.0</td>\n",
              "      <td>0.0</td>\n",
              "      <td>0.0</td>\n",
              "      <td>0.0</td>\n",
              "      <td>0.115</td>\n",
              "      <td>0.0</td>\n",
              "      <td>0.0</td>\n",
              "      <td>1.0</td>\n",
              "      <td>0.144</td>\n",
              "      <td>0.054</td>\n",
              "      <td>82</td>\n",
              "      <td>0.0</td>\n",
              "      <td>2.0</td>\n",
              "      <td>0.0</td>\n",
              "      <td>0.504</td>\n",
              "      <td>0.0</td>\n",
              "      <td>0.0</td>\n",
              "      <td>1.0</td>\n",
              "      <td>0.209</td>\n",
              "      <td>0.0</td>\n",
              "      <td>14.68</td>\n",
              "      <td>96.0</td>\n",
              "      <td>0.0</td>\n",
              "      <td>M</td>\n",
              "      <td>38.7</td>\n",
              "      <td>0.0</td>\n",
              "      <td>8.40</td>\n",
              "      <td>Home</td>\n",
              "      <td>NaN</td>\n",
              "      <td>Home</td>\n",
              "      <td>0.5433</td>\n",
              "      <td>0.4567</td>\n",
              "    </tr>\n",
              "    <tr>\n",
              "      <th>4</th>\n",
              "      <td>0.0</td>\n",
              "      <td>0.0</td>\n",
              "      <td>0.0</td>\n",
              "      <td>0.0</td>\n",
              "      <td>0.544</td>\n",
              "      <td>0.0</td>\n",
              "      <td>1.0</td>\n",
              "      <td>1.0</td>\n",
              "      <td>0.519</td>\n",
              "      <td>0.609</td>\n",
              "      <td>69</td>\n",
              "      <td>0.0</td>\n",
              "      <td>1.0</td>\n",
              "      <td>0.0</td>\n",
              "      <td>0.658</td>\n",
              "      <td>0.0</td>\n",
              "      <td>0.0</td>\n",
              "      <td>0.0</td>\n",
              "      <td>0.785</td>\n",
              "      <td>0.0</td>\n",
              "      <td>13.18</td>\n",
              "      <td>NaN</td>\n",
              "      <td>0.0</td>\n",
              "      <td>M</td>\n",
              "      <td>37.5</td>\n",
              "      <td>0.0</td>\n",
              "      <td>5.61</td>\n",
              "      <td>Hospital</td>\n",
              "      <td>1</td>\n",
              "      <td>Hospital</td>\n",
              "      <td>0.4305</td>\n",
              "      <td>0.5695</td>\n",
              "    </tr>\n",
              "  </tbody>\n",
              "</table>\n",
              "</div>"
            ],
            "text/plain": [
              "   Bpco  CancroAttivoNegliUltimi5Anni  ...  P_casa  P_ospedale\n",
              "0   0.0                           0.0  ...  0.2909      0.7091\n",
              "1   0.0                           0.0  ...  0.2904      0.7096\n",
              "2   0.0                           0.0  ...  0.7106      0.2894\n",
              "3   0.0                           0.0  ...  0.5433      0.4567\n",
              "4   0.0                           0.0  ...  0.4305      0.5695\n",
              "\n",
              "[5 rows x 32 columns]"
            ]
          },
          "metadata": {},
          "execution_count": 8
        }
      ]
    },
    {
      "cell_type": "code",
      "metadata": {
        "colab": {
          "base_uri": "https://localhost:8080/"
        },
        "id": "i1aZW_5cfywH",
        "outputId": "eef530f3-dad6-4a23-eaca-61b359af795c"
      },
      "source": [
        "df_training.shape"
      ],
      "execution_count": null,
      "outputs": [
        {
          "output_type": "execute_result",
          "data": {
            "text/plain": [
              "(594, 32)"
            ]
          },
          "metadata": {},
          "execution_count": 9
        }
      ]
    },
    {
      "cell_type": "code",
      "metadata": {
        "id": "sv78bwPllhQZ"
      },
      "source": [
        "df_training = df_training.replace('Home', 0)\n",
        "df_training = df_training.replace('Hospital', 1)\n",
        "df_training = df_training.replace('M', 0)\n",
        "df_training = df_training.replace('F', 1)"
      ],
      "execution_count": null,
      "outputs": []
    },
    {
      "cell_type": "markdown",
      "metadata": {
        "id": "m-xvetm0Ch2F"
      },
      "source": [
        "Prognosis: \n",
        "- 0 = hospitalization without CPAP \n",
        "- 1 = hospitalization with CPAP \n",
        "- 2 = hospitalization in intensive care/mechanical ventilation/death"
      ]
    },
    {
      "cell_type": "code",
      "metadata": {
        "colab": {
          "base_uri": "https://localhost:8080/"
        },
        "id": "n8Zo9UFZ8jfN",
        "outputId": "9d0c2e90-7fc7-4572-9438-587a82f997e4"
      },
      "source": [
        "from collections import Counter\n",
        "Counter(df_training['Prognosi'])"
      ],
      "execution_count": null,
      "outputs": [
        {
          "output_type": "execute_result",
          "data": {
            "text/plain": [
              "Counter({0: 301, 1: 293})"
            ]
          },
          "metadata": {},
          "execution_count": 11
        }
      ]
    },
    {
      "cell_type": "markdown",
      "metadata": {
        "id": "0eCiiqPVEP07"
      },
      "source": [
        "Missing data handling"
      ]
    },
    {
      "cell_type": "code",
      "metadata": {
        "colab": {
          "base_uri": "https://localhost:8080/"
        },
        "id": "m7ioaT4gDE7a",
        "outputId": "563657c5-54fb-42e9-ef39-d10daeb8a2f2"
      },
      "source": [
        "df_training.isna().sum()"
      ],
      "execution_count": null,
      "outputs": [
        {
          "output_type": "execute_result",
          "data": {
            "text/plain": [
              "Bpco                             15\n",
              "CancroAttivoNegliUltimi5Anni     15\n",
              "CardiopatiaIschemica             15\n",
              "ComorbiditaMaggioreDue           15\n",
              "Consolidation                     0\n",
              "Demenza                          17\n",
              "DiabeteMellitoTipo2              15\n",
              "DifficoltaRespiratorie           12\n",
              "Edema                             0\n",
              "Effusion                          0\n",
              "Eta                               0\n",
              "FibrillazioneAtriale             21\n",
              "Giorni                          100\n",
              "Ictus                            22\n",
              "Infiltration                      0\n",
              "InsufficienzaRenaleCronica       15\n",
              "InsufficienzaRespiratoria        21\n",
              "IpertensioneArteriosa            15\n",
              "LungOpacity                       0\n",
              "PatologieCardiovascolari         17\n",
              "Pcr                              16\n",
              "Saturazione                     157\n",
              "ScompensoCardiaco                22\n",
              "Sesso                             0\n",
              "Temperatura                     113\n",
              "Tosse                            13\n",
              "Wbc                               4\n",
              "Prognosi                          0\n",
              "GravitàPrognosi                 301\n",
              "Predizione                        0\n",
              "P_casa                            0\n",
              "P_ospedale                        0\n",
              "dtype: int64"
            ]
          },
          "metadata": {},
          "execution_count": 13
        }
      ]
    },
    {
      "cell_type": "code",
      "metadata": {
        "colab": {
          "base_uri": "https://localhost:8080/",
          "height": 481
        },
        "id": "mUzHjd8vETUI",
        "outputId": "e7cfa728-de28-4dd4-8e1b-f431e2518ab8"
      },
      "source": [
        "# # Removal of features containing more than 90% of NaN\n",
        "print(\"DataFrame shape before NaN removal:\", df_training.shape)\n",
        "df_training_nanremoved = df_training.dropna(thresh= round(df_training.shape[0] * 0.90), axis=1)\n",
        "print(\"DataFrame shape after NaN removal:\", df_training_nanremoved.shape)\n",
        "display(df_training_nanremoved)"
      ],
      "execution_count": null,
      "outputs": [
        {
          "output_type": "stream",
          "name": "stdout",
          "text": [
            "DataFrame shape before NaN removal: (594, 32)\n",
            "DataFrame shape after NaN removal: (594, 28)\n"
          ]
        },
        {
          "output_type": "display_data",
          "data": {
            "text/html": [
              "<div>\n",
              "<style scoped>\n",
              "    .dataframe tbody tr th:only-of-type {\n",
              "        vertical-align: middle;\n",
              "    }\n",
              "\n",
              "    .dataframe tbody tr th {\n",
              "        vertical-align: top;\n",
              "    }\n",
              "\n",
              "    .dataframe thead th {\n",
              "        text-align: right;\n",
              "    }\n",
              "</style>\n",
              "<table border=\"1\" class=\"dataframe\">\n",
              "  <thead>\n",
              "    <tr style=\"text-align: right;\">\n",
              "      <th></th>\n",
              "      <th>Bpco</th>\n",
              "      <th>CancroAttivoNegliUltimi5Anni</th>\n",
              "      <th>CardiopatiaIschemica</th>\n",
              "      <th>ComorbiditaMaggioreDue</th>\n",
              "      <th>Consolidation</th>\n",
              "      <th>Demenza</th>\n",
              "      <th>DiabeteMellitoTipo2</th>\n",
              "      <th>DifficoltaRespiratorie</th>\n",
              "      <th>Edema</th>\n",
              "      <th>Effusion</th>\n",
              "      <th>Eta</th>\n",
              "      <th>FibrillazioneAtriale</th>\n",
              "      <th>Ictus</th>\n",
              "      <th>Infiltration</th>\n",
              "      <th>InsufficienzaRenaleCronica</th>\n",
              "      <th>InsufficienzaRespiratoria</th>\n",
              "      <th>IpertensioneArteriosa</th>\n",
              "      <th>LungOpacity</th>\n",
              "      <th>PatologieCardiovascolari</th>\n",
              "      <th>Pcr</th>\n",
              "      <th>ScompensoCardiaco</th>\n",
              "      <th>Sesso</th>\n",
              "      <th>Tosse</th>\n",
              "      <th>Wbc</th>\n",
              "      <th>Prognosi</th>\n",
              "      <th>Predizione</th>\n",
              "      <th>P_casa</th>\n",
              "      <th>P_ospedale</th>\n",
              "    </tr>\n",
              "  </thead>\n",
              "  <tbody>\n",
              "    <tr>\n",
              "      <th>0</th>\n",
              "      <td>0.0</td>\n",
              "      <td>0.0</td>\n",
              "      <td>0.0</td>\n",
              "      <td>1.0</td>\n",
              "      <td>0.530</td>\n",
              "      <td>0.0</td>\n",
              "      <td>0.0</td>\n",
              "      <td>1.0</td>\n",
              "      <td>0.512</td>\n",
              "      <td>0.277</td>\n",
              "      <td>72</td>\n",
              "      <td>0.0</td>\n",
              "      <td>0.0</td>\n",
              "      <td>0.542</td>\n",
              "      <td>0.0</td>\n",
              "      <td>1.0</td>\n",
              "      <td>1.0</td>\n",
              "      <td>0.797</td>\n",
              "      <td>1.0</td>\n",
              "      <td>26.06</td>\n",
              "      <td>0.0</td>\n",
              "      <td>0</td>\n",
              "      <td>1.0</td>\n",
              "      <td>12.40</td>\n",
              "      <td>1</td>\n",
              "      <td>1</td>\n",
              "      <td>0.2909</td>\n",
              "      <td>0.7091</td>\n",
              "    </tr>\n",
              "    <tr>\n",
              "      <th>1</th>\n",
              "      <td>0.0</td>\n",
              "      <td>0.0</td>\n",
              "      <td>1.0</td>\n",
              "      <td>1.0</td>\n",
              "      <td>0.564</td>\n",
              "      <td>1.0</td>\n",
              "      <td>1.0</td>\n",
              "      <td>1.0</td>\n",
              "      <td>0.528</td>\n",
              "      <td>0.279</td>\n",
              "      <td>88</td>\n",
              "      <td>0.0</td>\n",
              "      <td>0.0</td>\n",
              "      <td>0.810</td>\n",
              "      <td>1.0</td>\n",
              "      <td>0.0</td>\n",
              "      <td>1.0</td>\n",
              "      <td>0.966</td>\n",
              "      <td>1.0</td>\n",
              "      <td>12.00</td>\n",
              "      <td>0.0</td>\n",
              "      <td>0</td>\n",
              "      <td>0.0</td>\n",
              "      <td>5.10</td>\n",
              "      <td>1</td>\n",
              "      <td>1</td>\n",
              "      <td>0.2904</td>\n",
              "      <td>0.7096</td>\n",
              "    </tr>\n",
              "    <tr>\n",
              "      <th>2</th>\n",
              "      <td>0.0</td>\n",
              "      <td>0.0</td>\n",
              "      <td>0.0</td>\n",
              "      <td>0.0</td>\n",
              "      <td>0.082</td>\n",
              "      <td>0.0</td>\n",
              "      <td>0.0</td>\n",
              "      <td>1.0</td>\n",
              "      <td>0.003</td>\n",
              "      <td>0.037</td>\n",
              "      <td>61</td>\n",
              "      <td>0.0</td>\n",
              "      <td>0.0</td>\n",
              "      <td>0.433</td>\n",
              "      <td>0.0</td>\n",
              "      <td>0.0</td>\n",
              "      <td>1.0</td>\n",
              "      <td>0.091</td>\n",
              "      <td>0.0</td>\n",
              "      <td>3.01</td>\n",
              "      <td>0.0</td>\n",
              "      <td>0</td>\n",
              "      <td>0.0</td>\n",
              "      <td>3.10</td>\n",
              "      <td>0</td>\n",
              "      <td>0</td>\n",
              "      <td>0.7106</td>\n",
              "      <td>0.2894</td>\n",
              "    </tr>\n",
              "    <tr>\n",
              "      <th>3</th>\n",
              "      <td>0.0</td>\n",
              "      <td>0.0</td>\n",
              "      <td>0.0</td>\n",
              "      <td>0.0</td>\n",
              "      <td>0.115</td>\n",
              "      <td>0.0</td>\n",
              "      <td>0.0</td>\n",
              "      <td>1.0</td>\n",
              "      <td>0.144</td>\n",
              "      <td>0.054</td>\n",
              "      <td>82</td>\n",
              "      <td>0.0</td>\n",
              "      <td>0.0</td>\n",
              "      <td>0.504</td>\n",
              "      <td>0.0</td>\n",
              "      <td>0.0</td>\n",
              "      <td>1.0</td>\n",
              "      <td>0.209</td>\n",
              "      <td>0.0</td>\n",
              "      <td>14.68</td>\n",
              "      <td>0.0</td>\n",
              "      <td>0</td>\n",
              "      <td>0.0</td>\n",
              "      <td>8.40</td>\n",
              "      <td>0</td>\n",
              "      <td>0</td>\n",
              "      <td>0.5433</td>\n",
              "      <td>0.4567</td>\n",
              "    </tr>\n",
              "    <tr>\n",
              "      <th>4</th>\n",
              "      <td>0.0</td>\n",
              "      <td>0.0</td>\n",
              "      <td>0.0</td>\n",
              "      <td>0.0</td>\n",
              "      <td>0.544</td>\n",
              "      <td>0.0</td>\n",
              "      <td>1.0</td>\n",
              "      <td>1.0</td>\n",
              "      <td>0.519</td>\n",
              "      <td>0.609</td>\n",
              "      <td>69</td>\n",
              "      <td>0.0</td>\n",
              "      <td>0.0</td>\n",
              "      <td>0.658</td>\n",
              "      <td>0.0</td>\n",
              "      <td>0.0</td>\n",
              "      <td>0.0</td>\n",
              "      <td>0.785</td>\n",
              "      <td>0.0</td>\n",
              "      <td>13.18</td>\n",
              "      <td>0.0</td>\n",
              "      <td>0</td>\n",
              "      <td>0.0</td>\n",
              "      <td>5.61</td>\n",
              "      <td>1</td>\n",
              "      <td>1</td>\n",
              "      <td>0.4305</td>\n",
              "      <td>0.5695</td>\n",
              "    </tr>\n",
              "    <tr>\n",
              "      <th>...</th>\n",
              "      <td>...</td>\n",
              "      <td>...</td>\n",
              "      <td>...</td>\n",
              "      <td>...</td>\n",
              "      <td>...</td>\n",
              "      <td>...</td>\n",
              "      <td>...</td>\n",
              "      <td>...</td>\n",
              "      <td>...</td>\n",
              "      <td>...</td>\n",
              "      <td>...</td>\n",
              "      <td>...</td>\n",
              "      <td>...</td>\n",
              "      <td>...</td>\n",
              "      <td>...</td>\n",
              "      <td>...</td>\n",
              "      <td>...</td>\n",
              "      <td>...</td>\n",
              "      <td>...</td>\n",
              "      <td>...</td>\n",
              "      <td>...</td>\n",
              "      <td>...</td>\n",
              "      <td>...</td>\n",
              "      <td>...</td>\n",
              "      <td>...</td>\n",
              "      <td>...</td>\n",
              "      <td>...</td>\n",
              "      <td>...</td>\n",
              "    </tr>\n",
              "    <tr>\n",
              "      <th>589</th>\n",
              "      <td>0.0</td>\n",
              "      <td>0.0</td>\n",
              "      <td>1.0</td>\n",
              "      <td>1.0</td>\n",
              "      <td>0.515</td>\n",
              "      <td>1.0</td>\n",
              "      <td>0.0</td>\n",
              "      <td>1.0</td>\n",
              "      <td>0.062</td>\n",
              "      <td>0.569</td>\n",
              "      <td>82</td>\n",
              "      <td>1.0</td>\n",
              "      <td>1.0</td>\n",
              "      <td>0.432</td>\n",
              "      <td>1.0</td>\n",
              "      <td>0.0</td>\n",
              "      <td>0.0</td>\n",
              "      <td>0.693</td>\n",
              "      <td>1.0</td>\n",
              "      <td>3.28</td>\n",
              "      <td>0.0</td>\n",
              "      <td>0</td>\n",
              "      <td>0.0</td>\n",
              "      <td>10.96</td>\n",
              "      <td>1</td>\n",
              "      <td>1</td>\n",
              "      <td>0.4418</td>\n",
              "      <td>0.5582</td>\n",
              "    </tr>\n",
              "    <tr>\n",
              "      <th>590</th>\n",
              "      <td>0.0</td>\n",
              "      <td>0.0</td>\n",
              "      <td>0.0</td>\n",
              "      <td>0.0</td>\n",
              "      <td>0.452</td>\n",
              "      <td>0.0</td>\n",
              "      <td>1.0</td>\n",
              "      <td>1.0</td>\n",
              "      <td>0.393</td>\n",
              "      <td>0.168</td>\n",
              "      <td>62</td>\n",
              "      <td>0.0</td>\n",
              "      <td>0.0</td>\n",
              "      <td>0.296</td>\n",
              "      <td>0.0</td>\n",
              "      <td>0.0</td>\n",
              "      <td>1.0</td>\n",
              "      <td>0.500</td>\n",
              "      <td>0.0</td>\n",
              "      <td>11.52</td>\n",
              "      <td>0.0</td>\n",
              "      <td>0</td>\n",
              "      <td>1.0</td>\n",
              "      <td>7.10</td>\n",
              "      <td>1</td>\n",
              "      <td>1</td>\n",
              "      <td>0.4862</td>\n",
              "      <td>0.5138</td>\n",
              "    </tr>\n",
              "    <tr>\n",
              "      <th>591</th>\n",
              "      <td>0.0</td>\n",
              "      <td>1.0</td>\n",
              "      <td>0.0</td>\n",
              "      <td>0.0</td>\n",
              "      <td>0.574</td>\n",
              "      <td>0.0</td>\n",
              "      <td>0.0</td>\n",
              "      <td>0.0</td>\n",
              "      <td>0.076</td>\n",
              "      <td>0.120</td>\n",
              "      <td>68</td>\n",
              "      <td>0.0</td>\n",
              "      <td>0.0</td>\n",
              "      <td>0.646</td>\n",
              "      <td>0.0</td>\n",
              "      <td>0.0</td>\n",
              "      <td>0.0</td>\n",
              "      <td>0.860</td>\n",
              "      <td>0.0</td>\n",
              "      <td>2.80</td>\n",
              "      <td>0.0</td>\n",
              "      <td>1</td>\n",
              "      <td>1.0</td>\n",
              "      <td>3.90</td>\n",
              "      <td>0</td>\n",
              "      <td>0</td>\n",
              "      <td>0.6139</td>\n",
              "      <td>0.3861</td>\n",
              "    </tr>\n",
              "    <tr>\n",
              "      <th>592</th>\n",
              "      <td>NaN</td>\n",
              "      <td>NaN</td>\n",
              "      <td>NaN</td>\n",
              "      <td>NaN</td>\n",
              "      <td>0.519</td>\n",
              "      <td>NaN</td>\n",
              "      <td>NaN</td>\n",
              "      <td>1.0</td>\n",
              "      <td>0.112</td>\n",
              "      <td>0.226</td>\n",
              "      <td>81</td>\n",
              "      <td>NaN</td>\n",
              "      <td>NaN</td>\n",
              "      <td>0.516</td>\n",
              "      <td>NaN</td>\n",
              "      <td>NaN</td>\n",
              "      <td>NaN</td>\n",
              "      <td>0.585</td>\n",
              "      <td>NaN</td>\n",
              "      <td>4.04</td>\n",
              "      <td>NaN</td>\n",
              "      <td>1</td>\n",
              "      <td>0.0</td>\n",
              "      <td>6.70</td>\n",
              "      <td>0</td>\n",
              "      <td>0</td>\n",
              "      <td>0.6654</td>\n",
              "      <td>0.3346</td>\n",
              "    </tr>\n",
              "    <tr>\n",
              "      <th>593</th>\n",
              "      <td>1.0</td>\n",
              "      <td>0.0</td>\n",
              "      <td>1.0</td>\n",
              "      <td>1.0</td>\n",
              "      <td>0.593</td>\n",
              "      <td>1.0</td>\n",
              "      <td>0.0</td>\n",
              "      <td>1.0</td>\n",
              "      <td>0.529</td>\n",
              "      <td>0.725</td>\n",
              "      <td>88</td>\n",
              "      <td>0.0</td>\n",
              "      <td>0.0</td>\n",
              "      <td>0.683</td>\n",
              "      <td>1.0</td>\n",
              "      <td>1.0</td>\n",
              "      <td>1.0</td>\n",
              "      <td>0.892</td>\n",
              "      <td>1.0</td>\n",
              "      <td>8.52</td>\n",
              "      <td>1.0</td>\n",
              "      <td>1</td>\n",
              "      <td>0.0</td>\n",
              "      <td>4.40</td>\n",
              "      <td>1</td>\n",
              "      <td>1</td>\n",
              "      <td>0.4944</td>\n",
              "      <td>0.5056</td>\n",
              "    </tr>\n",
              "  </tbody>\n",
              "</table>\n",
              "<p>594 rows × 28 columns</p>\n",
              "</div>"
            ],
            "text/plain": [
              "     Bpco  CancroAttivoNegliUltimi5Anni  ...  P_casa  P_ospedale\n",
              "0     0.0                           0.0  ...  0.2909      0.7091\n",
              "1     0.0                           0.0  ...  0.2904      0.7096\n",
              "2     0.0                           0.0  ...  0.7106      0.2894\n",
              "3     0.0                           0.0  ...  0.5433      0.4567\n",
              "4     0.0                           0.0  ...  0.4305      0.5695\n",
              "..    ...                           ...  ...     ...         ...\n",
              "589   0.0                           0.0  ...  0.4418      0.5582\n",
              "590   0.0                           0.0  ...  0.4862      0.5138\n",
              "591   0.0                           1.0  ...  0.6139      0.3861\n",
              "592   NaN                           NaN  ...  0.6654      0.3346\n",
              "593   1.0                           0.0  ...  0.4944      0.5056\n",
              "\n",
              "[594 rows x 28 columns]"
            ]
          },
          "metadata": {}
        }
      ]
    },
    {
      "cell_type": "markdown",
      "metadata": {
        "id": "yd0bdvgNHXy7"
      },
      "source": [
        "Removed features:"
      ]
    },
    {
      "cell_type": "code",
      "metadata": {
        "colab": {
          "base_uri": "https://localhost:8080/"
        },
        "id": "nGCCzrQ4E32Y",
        "outputId": "07157b46-1e1a-4f05-f720-9dd935c3a1f8"
      },
      "source": [
        "set(df_training.columns) ^ set(df_training_nanremoved)"
      ],
      "execution_count": null,
      "outputs": [
        {
          "output_type": "execute_result",
          "data": {
            "text/plain": [
              "{'Giorni', 'GravitàPrognosi', 'Saturazione', 'Temperatura'}"
            ]
          },
          "metadata": {},
          "execution_count": 15
        }
      ]
    },
    {
      "cell_type": "code",
      "source": [
        "# How to impute missing values\n",
        "from collections import Counter\n",
        "# Imputing missing values\n",
        "# Categorical: the most frequent value\n",
        "def impute_nan(dataset, cat_feat, num_feat):\n",
        "  dataset.reset_index(drop=True, inplace=True)\n",
        "  feat2impute = {}\n",
        "  for c in cat_feat:\n",
        "    m=Counter(dataset[c])\n",
        "        #print('Feature:', c, '; Number of Nan rows:', dataset[dataset[c].isna()].shape[0])\n",
        "\n",
        "    # m.most_common(1)[0][0]\n",
        "    iNa = np.where(dataset[c].isna())[0]\n",
        "    iC = np.where(dataset.columns==c)[0]\n",
        "    dataset[c] = dataset[c].fillna(m.most_common(1)[0][0])\n",
        "    feat2impute[c] = m.most_common(1)[0][0]\n",
        "  # Non-categorical: mean\n",
        "  for c in num_feat:\n",
        "    m=dataset[c].mean()\n",
        "    #print('Feature:', c, '; Number of Nan rows:', dataset[dataset[c].isna()].shape[0])\n",
        "\n",
        "    # m.most_common(1)[0][0]\n",
        "    iNa = np.where(dataset[c].isna())[0]\n",
        "    iC = np.where(dataset.columns==c)[0]\n",
        "    dataset[c] = dataset[c].fillna(m)\n",
        "    feat2impute[c] = m\n",
        "  return (dataset, feat2impute)\n",
        "\n",
        "def impute_nan_test(testdata, f2impute):\n",
        "  for c in testdata.columns:\n",
        "    testdata[c] = testdata[c].fillna(f2impute[c]) \n",
        "  return testdata"
      ],
      "metadata": {
        "id": "HwL9zebPhNfT"
      },
      "execution_count": null,
      "outputs": []
    },
    {
      "cell_type": "code",
      "metadata": {
        "id": "wgmciRBpHXQm"
      },
      "source": [
        "df_training = df_training_nanremoved"
      ],
      "execution_count": null,
      "outputs": []
    },
    {
      "cell_type": "code",
      "metadata": {
        "id": "DSVEa3ACHnsR"
      },
      "source": [
        "cat_feat = ['Bpco',\n",
        "            'CancroAttivoNegliUltimi5Anni',\n",
        "            'CardiopatiaIschemica',\n",
        "            'ComorbiditaMaggioreDue', 'Demenza',\n",
        "            'DiabeteMellitoTipo2',\n",
        "            'DifficoltaRespiratorie', \n",
        "            'FibrillazioneAtriale',\t'Ictus',\n",
        "            'InsufficienzaRenaleCronica',\t\n",
        "            'InsufficienzaRespiratoria',\n",
        "            'IpertensioneArteriosa', 'PatologieCardiovascolari',\n",
        "            'ScompensoCardiaco','Sesso', 'Tosse']\n",
        "\n",
        "num_feat = list(set(df_training.columns) ^ set(cat_feat+['P_casa',\n",
        "                                                         'P_ospedale',\n",
        "                                                         'Prognosi','Predizione',\n",
        "                                                         ])) \n"
      ],
      "execution_count": null,
      "outputs": []
    },
    {
      "cell_type": "markdown",
      "metadata": {
        "id": "WwbrKpohHAVc"
      },
      "source": [
        "### ML model"
      ]
    },
    {
      "cell_type": "code",
      "metadata": {
        "colab": {
          "base_uri": "https://localhost:8080/"
        },
        "id": "qz6a8Gp-9KTk",
        "outputId": "28113508-683c-44f0-8224-5cccc7f4f531"
      },
      "source": [
        "df_training.columns"
      ],
      "execution_count": null,
      "outputs": [
        {
          "output_type": "execute_result",
          "data": {
            "text/plain": [
              "Index(['Bpco', 'CancroAttivoNegliUltimi5Anni', 'CardiopatiaIschemica',\n",
              "       'ComorbiditaMaggioreDue', 'Consolidation', 'Demenza',\n",
              "       'DiabeteMellitoTipo2', 'DifficoltaRespiratorie', 'Edema', 'Effusion',\n",
              "       'Eta', 'FibrillazioneAtriale', 'Ictus', 'Infiltration',\n",
              "       'InsufficienzaRenaleCronica', 'InsufficienzaRespiratoria',\n",
              "       'IpertensioneArteriosa', 'LungOpacity', 'PatologieCardiovascolari',\n",
              "       'Pcr', 'ScompensoCardiaco', 'Sesso', 'Tosse', 'Wbc', 'Prognosi',\n",
              "       'Predizione', 'P_casa', 'P_ospedale'],\n",
              "      dtype='object')"
            ]
          },
          "metadata": {},
          "execution_count": 24
        }
      ]
    },
    {
      "cell_type": "code",
      "metadata": {
        "colab": {
          "base_uri": "https://localhost:8080/"
        },
        "id": "YJREEZKIHClg",
        "outputId": "05c24ba9-a7b6-4b51-8092-336835c388b7"
      },
      "source": [
        "# RandomForest\n",
        "from sklearn.ensemble import GradientBoostingClassifier, RandomForestClassifier\n",
        "from sklearn.linear_model import LogisticRegression\n",
        "from sklearn.metrics import multilabel_confusion_matrix\n",
        "from sklearn.model_selection import KFold, StratifiedKFold\n",
        "from sklearn.preprocessing import MinMaxScaler\n",
        "\n",
        "import xgboost as xgb\n",
        "\n",
        "featcol = num_feat + cat_feat\n",
        "deepfeat = ['Consolidation', 'Edema', 'Infiltration', 'Effusion', 'LungOpacity']\n",
        "X = df_training[featcol].to_numpy()\n",
        "y = df_training['Prognosi'].astype(int).to_numpy()\n",
        "\n",
        "# clf = GradientBoostingClassifier(random_state=1)\n",
        "\n",
        "cross_val_metrics_g = dict.fromkeys(['Accuracy', 'Precision', 'Recall', 'Specificity','F_score'])\n",
        "for x in cross_val_metrics_g.keys():\n",
        "  cross_val_metrics_g[x] = []                         \n",
        "\n",
        "# 3. Set the `numpy` pseudo-random generator at a fixed value\n",
        "\n",
        "rng = np.random.RandomState(0)\n",
        "kf = KFold( n_splits=10, shuffle=False, random_state=rng)\n",
        "y_training_cv = []\n",
        "confmats = []\n",
        "test_indexes = []\n",
        "prob_pred = np.empty((0,2))\n",
        "\n",
        "for train_index, test_index in kf.split(X):\n",
        "    # print(\"TRAIN:\", train_index, \"TEST:\", test_index)\n",
        "    test_indexes.append(test_index)\n",
        "    X_train, X_test = X[train_index], X[test_index]\n",
        "    y_train, y_test = y[train_index], y[test_index]\n",
        "\n",
        "    (X_train, feat2impute_fold) = impute_nan(pd.DataFrame(X_train, columns=featcol), cat_feat, num_feat)\n",
        "    X_test = impute_nan_test(pd.DataFrame(X_test, columns=featcol), \n",
        "                             feat2impute_fold)\n",
        "    \n",
        "    # Scaling between 0 and 1\n",
        "    scaler = MinMaxScaler()\n",
        "    X_train = scaler.fit_transform(X_train)\n",
        "    X_test = scaler.transform(X_test)\n",
        "    #clf = GradientBoostingClassifier(random_state=1, n_estimators=500)\n",
        "    #clf = LogisticRegression(random_state=1, penalty='l1', solver='liblinear')\n",
        "  \n",
        "    clf_kfold = RandomForestClassifier(random_state=rng,\n",
        "                                 n_estimators=500,\n",
        "                                 criterion='gini', n_jobs=1,\n",
        "                                 min_samples_leaf=10)\n",
        "    #clf = xgb.XGBClassifier(objective=\"binary:logistic\", random_state=42)\n",
        "    clf_kfold.fit(X_train, y_train) \n",
        "\n",
        "    ypred = clf_kfold.predict(X_test)\n",
        "    y_training_cv = y_training_cv + list(y_test)\n",
        "    prob_pred = np.append(prob_pred, clf_kfold.predict_proba(X_test), axis=0)\n",
        "\n",
        "    #r_i = multilabel_confusion_matrix(y_test, ypred)\n",
        "    #confmats.append(r_i)\n",
        "    tn, fp, fn, tp = confusion_matrix(y_test, ypred).ravel()\n",
        "    cross_val_metrics_g['Accuracy'] = cross_val_metrics_g['Accuracy']  + [(tp+tn)/(tp+tn+fp+fn)]\n",
        "    cross_val_metrics_g['Precision'] = cross_val_metrics_g['Precision'] +  [(tp/(tp+fp))]\n",
        "    cross_val_metrics_g['Recall'] = cross_val_metrics_g['Recall'] + [ tp/(tp+fn) ]\n",
        "    cross_val_metrics_g['Specificity'] = cross_val_metrics_g['Specificity'] + [tn/(tn+fp)]\n",
        "    cross_val_metrics_g['F_score'] = cross_val_metrics_g['F_score'] + [f1_score(y_test, ypred)]\n",
        "                                         "
      ],
      "execution_count": null,
      "outputs": [
        {
          "output_type": "stream",
          "name": "stderr",
          "text": [
            "/usr/local/lib/python3.7/dist-packages/sklearn/model_selection/_split.py:296: FutureWarning: Setting a random_state has no effect since shuffle is False. This will raise an error in 0.24. You should leave random_state to its default (None), or set shuffle=True.\n",
            "  FutureWarning\n"
          ]
        }
      ]
    },
    {
      "cell_type": "code",
      "metadata": {
        "colab": {
          "base_uri": "https://localhost:8080/"
        },
        "id": "zSm-WqtPqOxI",
        "outputId": "9de8adcc-53ce-4af1-883d-7c8a74ab0b44"
      },
      "source": [
        "prec_training, recall_training, threshold = precision_recall_curve(df_training['Prognosi'].astype(int), \n",
        "                                                                   prob_pred[:, 1])\n",
        "f_training = 2*prec_training*recall_training/(recall_training+prec_training)\n",
        "print('Prec', prec_training[np.where(f_training==np.nanmax(f_training))[0]])\n",
        "print('Recall', recall_training[np.where(f_training==np.nanmax(f_training))[0]])\n",
        "print('Threshold', threshold[np.where(f_training==np.nanmax(f_training))[0]])\n",
        "selected_threshold = threshold[np.where(f_training==np.nanmax(f_training))[0]]"
      ],
      "execution_count": null,
      "outputs": [
        {
          "output_type": "stream",
          "name": "stdout",
          "text": [
            "Prec [0.63294118]\n",
            "Recall [0.91808874]\n",
            "Threshold [0.37788358]\n"
          ]
        },
        {
          "output_type": "stream",
          "name": "stderr",
          "text": [
            "/usr/local/lib/python3.7/dist-packages/ipykernel_launcher.py:3: RuntimeWarning: invalid value encountered in true_divide\n",
            "  This is separate from the ipykernel package so we can avoid doing imports until\n"
          ]
        }
      ]
    },
    {
      "cell_type": "code",
      "metadata": {
        "id": "yts4PZT0PNJf"
      },
      "source": [
        "cross_val_metrics_mean = {}\n",
        "cross_val_metrics_std = {}\n",
        "for k,v in cross_val_metrics_g.items():\n",
        "  cross_val_metrics_mean[k] = np.mean(v)\n",
        "  cross_val_metrics_std[k] = np.std(v)"
      ],
      "execution_count": null,
      "outputs": []
    },
    {
      "cell_type": "code",
      "metadata": {
        "colab": {
          "base_uri": "https://localhost:8080/"
        },
        "id": "3xvJqfWJNIpD",
        "outputId": "6f24a972-93bb-4fc5-eef9-4f0fceaba753"
      },
      "source": [
        "cross_val_metrics_mean"
      ],
      "execution_count": null,
      "outputs": [
        {
          "output_type": "execute_result",
          "data": {
            "text/plain": [
              "{'Accuracy': 0.6817796610169491,\n",
              " 'F_score': 0.6930817302896286,\n",
              " 'Precision': 0.6568801164546696,\n",
              " 'Recall': 0.7375728129134203,\n",
              " 'Specificity': 0.6281335490999824}"
            ]
          },
          "metadata": {},
          "execution_count": 29
        }
      ]
    },
    {
      "cell_type": "code",
      "metadata": {
        "colab": {
          "base_uri": "https://localhost:8080/"
        },
        "id": "eTzOMy3H-R0c",
        "outputId": "f761995c-752a-4d54-f2ec-55e484ffee8f"
      },
      "source": [
        "cross_val_metrics_std"
      ],
      "execution_count": null,
      "outputs": [
        {
          "output_type": "execute_result",
          "data": {
            "text/plain": [
              "{'Accuracy': 0.05306739842779688,\n",
              " 'F_score': 0.06061765873977343,\n",
              " 'Precision': 0.0604390952986136,\n",
              " 'Recall': 0.08158415421922563,\n",
              " 'Specificity': 0.049429786379877994}"
            ]
          },
          "metadata": {},
          "execution_count": 30
        }
      ]
    },
    {
      "cell_type": "markdown",
      "metadata": {
        "id": "11Pb9EskdcST"
      },
      "source": [
        "Training on the complete training set"
      ]
    },
    {
      "cell_type": "code",
      "metadata": {
        "colab": {
          "base_uri": "https://localhost:8080/"
        },
        "id": "LuJSBt5NdfRH",
        "outputId": "fa3ec639-0351-462b-8815-236c777457ad"
      },
      "source": [
        "(X_all_training, feat2impute_allt) = impute_nan(pd.DataFrame(X, columns=featcol), cat_feat, num_feat)\n",
        "\n",
        "    # Scaling between 0 and 1\n",
        "scaler = MinMaxScaler()\n",
        "X_allt_norm = scaler.fit_transform(X_all_training)\n",
        "clf = RandomForestClassifier(random_state=1, n_estimators=500,\n",
        "                                 criterion='gini', min_samples_leaf=10)\n",
        "clf.fit(X_allt_norm, y)"
      ],
      "execution_count": null,
      "outputs": [
        {
          "output_type": "execute_result",
          "data": {
            "text/plain": [
              "RandomForestClassifier(bootstrap=True, ccp_alpha=0.0, class_weight=None,\n",
              "                       criterion='gini', max_depth=None, max_features='auto',\n",
              "                       max_leaf_nodes=None, max_samples=None,\n",
              "                       min_impurity_decrease=0.0, min_impurity_split=None,\n",
              "                       min_samples_leaf=10, min_samples_split=2,\n",
              "                       min_weight_fraction_leaf=0.0, n_estimators=500,\n",
              "                       n_jobs=None, oob_score=False, random_state=1, verbose=0,\n",
              "                       warm_start=False)"
            ]
          },
          "metadata": {},
          "execution_count": 31
        }
      ]
    },
    {
      "cell_type": "markdown",
      "metadata": {
        "id": "5I9hmD1pDKK1"
      },
      "source": [
        "## June 2021: third wave"
      ]
    },
    {
      "cell_type": "code",
      "metadata": {
        "colab": {
          "base_uri": "https://localhost:8080/",
          "height": 278
        },
        "id": "ltfTZ10bDOzx",
        "outputId": "baf55f61-29c5-4dea-d6fa-498203487fc4"
      },
      "source": [
        "path_newdata = 'ALFABETO OutputModelli+Riaccessi 20210621ch.xlsx'\n",
        "\n",
        "newdata = pd.read_excel(ROOT_PATH + path_newdata)\n",
        "newdata.head()"
      ],
      "execution_count": null,
      "outputs": [
        {
          "output_type": "execute_result",
          "data": {
            "text/html": [
              "<div>\n",
              "<style scoped>\n",
              "    .dataframe tbody tr th:only-of-type {\n",
              "        vertical-align: middle;\n",
              "    }\n",
              "\n",
              "    .dataframe tbody tr th {\n",
              "        vertical-align: top;\n",
              "    }\n",
              "\n",
              "    .dataframe thead th {\n",
              "        text-align: right;\n",
              "    }\n",
              "</style>\n",
              "<table border=\"1\" class=\"dataframe\">\n",
              "  <thead>\n",
              "    <tr style=\"text-align: right;\">\n",
              "      <th></th>\n",
              "      <th>ID</th>\n",
              "      <th>DataNascita</th>\n",
              "      <th>Sesso</th>\n",
              "      <th>Temperatura</th>\n",
              "      <th>Giorni</th>\n",
              "      <th>Tosse</th>\n",
              "      <th>DifficoltaRespiratorie</th>\n",
              "      <th>Wbc</th>\n",
              "      <th>Pcr</th>\n",
              "      <th>Saturazione</th>\n",
              "      <th>Ferritina</th>\n",
              "      <th>PatologieCardiovascolari</th>\n",
              "      <th>CardiopatiaIschemica</th>\n",
              "      <th>FibrillazioneAtriale</th>\n",
              "      <th>ScompensoCardiaco</th>\n",
              "      <th>Ictus</th>\n",
              "      <th>IpertensioneArteriosa</th>\n",
              "      <th>DiabeteMellitoTipo2</th>\n",
              "      <th>Demenza</th>\n",
              "      <th>Bpco</th>\n",
              "      <th>CancroUltimi5Anni</th>\n",
              "      <th>InsufficienzaRenaleCronica</th>\n",
              "      <th>InsufficienzaRespiratoria</th>\n",
              "      <th>Consolidation</th>\n",
              "      <th>Edema</th>\n",
              "      <th>Effusion</th>\n",
              "      <th>Infiltration</th>\n",
              "      <th>LungOpacity</th>\n",
              "      <th>Prognosi</th>\n",
              "      <th>Predizione</th>\n",
              "      <th>ProbabilitaClinica</th>\n",
              "      <th>Riaccesso</th>\n",
              "      <th>Numero Riaccessi</th>\n",
              "      <th>Giorni tra primo e ultimo riaccesso</th>\n",
              "      <th>Prognosi Ultimo Riaccesso</th>\n",
              "      <th>Predizione Ultimo Riaccesso</th>\n",
              "      <th>ProbabilitaClinica Ultimo Riaccesso</th>\n",
              "    </tr>\n",
              "  </thead>\n",
              "  <tbody>\n",
              "    <tr>\n",
              "      <th>0</th>\n",
              "      <td>1</td>\n",
              "      <td>1955-03-25T00:00:00.0000000</td>\n",
              "      <td>M</td>\n",
              "      <td>36.0</td>\n",
              "      <td>NaN</td>\n",
              "      <td>True</td>\n",
              "      <td>False</td>\n",
              "      <td>3.61</td>\n",
              "      <td>1.07</td>\n",
              "      <td>99.0</td>\n",
              "      <td>NaN</td>\n",
              "      <td>False</td>\n",
              "      <td>False</td>\n",
              "      <td>False</td>\n",
              "      <td>False</td>\n",
              "      <td>False</td>\n",
              "      <td>False</td>\n",
              "      <td>False</td>\n",
              "      <td>False</td>\n",
              "      <td>False</td>\n",
              "      <td>False</td>\n",
              "      <td>False</td>\n",
              "      <td>False</td>\n",
              "      <td>0.287</td>\n",
              "      <td>0.126</td>\n",
              "      <td>0.110</td>\n",
              "      <td>0.525</td>\n",
              "      <td>0.517</td>\n",
              "      <td>Home</td>\n",
              "      <td>Home</td>\n",
              "      <td>0.759646</td>\n",
              "      <td>No</td>\n",
              "      <td>NaN</td>\n",
              "      <td>NaN</td>\n",
              "      <td>NaN</td>\n",
              "      <td>NaN</td>\n",
              "      <td>NaN</td>\n",
              "    </tr>\n",
              "    <tr>\n",
              "      <th>1</th>\n",
              "      <td>2</td>\n",
              "      <td>1973-06-08T00:00:00.0000000</td>\n",
              "      <td>M</td>\n",
              "      <td>NaN</td>\n",
              "      <td>3.0</td>\n",
              "      <td>False</td>\n",
              "      <td>False</td>\n",
              "      <td>3.67</td>\n",
              "      <td>1.70</td>\n",
              "      <td>98.0</td>\n",
              "      <td>NaN</td>\n",
              "      <td>False</td>\n",
              "      <td>False</td>\n",
              "      <td>False</td>\n",
              "      <td>False</td>\n",
              "      <td>False</td>\n",
              "      <td>False</td>\n",
              "      <td>False</td>\n",
              "      <td>False</td>\n",
              "      <td>False</td>\n",
              "      <td>False</td>\n",
              "      <td>False</td>\n",
              "      <td>False</td>\n",
              "      <td>0.109</td>\n",
              "      <td>0.243</td>\n",
              "      <td>0.078</td>\n",
              "      <td>0.504</td>\n",
              "      <td>0.249</td>\n",
              "      <td>Home</td>\n",
              "      <td>Home</td>\n",
              "      <td>0.741989</td>\n",
              "      <td>Yes</td>\n",
              "      <td>1.0</td>\n",
              "      <td>3.0</td>\n",
              "      <td>Hospital</td>\n",
              "      <td>Home</td>\n",
              "      <td>0.539318</td>\n",
              "    </tr>\n",
              "    <tr>\n",
              "      <th>2</th>\n",
              "      <td>3</td>\n",
              "      <td>1936-05-22T00:00:00.0000000</td>\n",
              "      <td>M</td>\n",
              "      <td>37.3</td>\n",
              "      <td>NaN</td>\n",
              "      <td>False</td>\n",
              "      <td>False</td>\n",
              "      <td>1.68</td>\n",
              "      <td>2.21</td>\n",
              "      <td>98.0</td>\n",
              "      <td>NaN</td>\n",
              "      <td>False</td>\n",
              "      <td>False</td>\n",
              "      <td>False</td>\n",
              "      <td>False</td>\n",
              "      <td>False</td>\n",
              "      <td>True</td>\n",
              "      <td>False</td>\n",
              "      <td>False</td>\n",
              "      <td>True</td>\n",
              "      <td>False</td>\n",
              "      <td>False</td>\n",
              "      <td>True</td>\n",
              "      <td>0.137</td>\n",
              "      <td>0.229</td>\n",
              "      <td>0.047</td>\n",
              "      <td>0.551</td>\n",
              "      <td>0.373</td>\n",
              "      <td>Hospital</td>\n",
              "      <td>Home</td>\n",
              "      <td>0.695750</td>\n",
              "      <td>No</td>\n",
              "      <td>NaN</td>\n",
              "      <td>NaN</td>\n",
              "      <td>NaN</td>\n",
              "      <td>NaN</td>\n",
              "      <td>NaN</td>\n",
              "    </tr>\n",
              "    <tr>\n",
              "      <th>3</th>\n",
              "      <td>4</td>\n",
              "      <td>1942-08-16T00:00:00.0000000</td>\n",
              "      <td>F</td>\n",
              "      <td>36.0</td>\n",
              "      <td>NaN</td>\n",
              "      <td>False</td>\n",
              "      <td>True</td>\n",
              "      <td>5.60</td>\n",
              "      <td>6.81</td>\n",
              "      <td>97.0</td>\n",
              "      <td>NaN</td>\n",
              "      <td>False</td>\n",
              "      <td>False</td>\n",
              "      <td>False</td>\n",
              "      <td>False</td>\n",
              "      <td>False</td>\n",
              "      <td>True</td>\n",
              "      <td>False</td>\n",
              "      <td>False</td>\n",
              "      <td>False</td>\n",
              "      <td>False</td>\n",
              "      <td>False</td>\n",
              "      <td>False</td>\n",
              "      <td>0.543</td>\n",
              "      <td>0.510</td>\n",
              "      <td>0.335</td>\n",
              "      <td>0.608</td>\n",
              "      <td>0.873</td>\n",
              "      <td>Hospital</td>\n",
              "      <td>Home</td>\n",
              "      <td>0.614042</td>\n",
              "      <td>No</td>\n",
              "      <td>NaN</td>\n",
              "      <td>NaN</td>\n",
              "      <td>NaN</td>\n",
              "      <td>NaN</td>\n",
              "      <td>NaN</td>\n",
              "    </tr>\n",
              "    <tr>\n",
              "      <th>4</th>\n",
              "      <td>5</td>\n",
              "      <td>1938-07-25T00:00:00.0000000</td>\n",
              "      <td>F</td>\n",
              "      <td>36.0</td>\n",
              "      <td>3.0</td>\n",
              "      <td>True</td>\n",
              "      <td>False</td>\n",
              "      <td>2.90</td>\n",
              "      <td>7.14</td>\n",
              "      <td>93.0</td>\n",
              "      <td>NaN</td>\n",
              "      <td>False</td>\n",
              "      <td>False</td>\n",
              "      <td>False</td>\n",
              "      <td>False</td>\n",
              "      <td>False</td>\n",
              "      <td>True</td>\n",
              "      <td>False</td>\n",
              "      <td>False</td>\n",
              "      <td>False</td>\n",
              "      <td>False</td>\n",
              "      <td>False</td>\n",
              "      <td>False</td>\n",
              "      <td>0.510</td>\n",
              "      <td>0.484</td>\n",
              "      <td>0.543</td>\n",
              "      <td>0.580</td>\n",
              "      <td>0.609</td>\n",
              "      <td>Home</td>\n",
              "      <td>Home</td>\n",
              "      <td>0.660945</td>\n",
              "      <td>Yes</td>\n",
              "      <td>1.0</td>\n",
              "      <td>2.0</td>\n",
              "      <td>Hospital</td>\n",
              "      <td>Home</td>\n",
              "      <td>0.614383</td>\n",
              "    </tr>\n",
              "  </tbody>\n",
              "</table>\n",
              "</div>"
            ],
            "text/plain": [
              "   ID  ... ProbabilitaClinica Ultimo Riaccesso\n",
              "0   1  ...                                 NaN\n",
              "1   2  ...                            0.539318\n",
              "2   3  ...                                 NaN\n",
              "3   4  ...                                 NaN\n",
              "4   5  ...                            0.614383\n",
              "\n",
              "[5 rows x 37 columns]"
            ]
          },
          "metadata": {},
          "execution_count": 45
        }
      ]
    },
    {
      "cell_type": "code",
      "metadata": {
        "id": "wZ59MJwf93kX"
      },
      "source": [
        "newdata = newdata.rename(columns={'CancroUltimi5Anni':'CancroAttivoNegliUltimi5Anni'})"
      ],
      "execution_count": null,
      "outputs": []
    },
    {
      "cell_type": "code",
      "metadata": {
        "colab": {
          "base_uri": "https://localhost:8080/"
        },
        "id": "LzuAD7Oggj6e",
        "outputId": "75b310f8-8563-4ac4-ad4c-04d719e9fc26"
      },
      "source": [
        "newdata.shape"
      ],
      "execution_count": null,
      "outputs": [
        {
          "output_type": "execute_result",
          "data": {
            "text/plain": [
              "(462, 37)"
            ]
          },
          "metadata": {},
          "execution_count": 47
        }
      ]
    },
    {
      "cell_type": "code",
      "metadata": {
        "colab": {
          "base_uri": "https://localhost:8080/"
        },
        "id": "WWvUQU-u44sE",
        "outputId": "c829238e-1c82-45a4-fba2-b770fa402935"
      },
      "source": [
        "newdata['Sesso'].value_counts()"
      ],
      "execution_count": null,
      "outputs": [
        {
          "output_type": "execute_result",
          "data": {
            "text/plain": [
              "M    266\n",
              "F    196\n",
              "Name: Sesso, dtype: int64"
            ]
          },
          "metadata": {},
          "execution_count": 141
        }
      ]
    },
    {
      "cell_type": "code",
      "metadata": {
        "colab": {
          "base_uri": "https://localhost:8080/"
        },
        "id": "PHqPhAvO5azR",
        "outputId": "e837bd3f-a6f6-435b-8b4e-abf4e7536db2"
      },
      "source": [
        "newdata['ComorbiditaMaggioreDue'].value_counts()"
      ],
      "execution_count": null,
      "outputs": [
        {
          "output_type": "execute_result",
          "data": {
            "text/plain": [
              "False    437\n",
              "True      25\n",
              "Name: ComorbiditaMaggioreDue, dtype: int64"
            ]
          },
          "metadata": {},
          "execution_count": 144
        }
      ]
    },
    {
      "cell_type": "code",
      "metadata": {
        "colab": {
          "base_uri": "https://localhost:8080/"
        },
        "id": "7h4j2rKI5HJH",
        "outputId": "6953b62e-9b2e-46e0-db4e-de84a83b37e4"
      },
      "source": [
        "np.std(newdata['Eta'])"
      ],
      "execution_count": null,
      "outputs": [
        {
          "output_type": "execute_result",
          "data": {
            "text/plain": [
              "15.328827060081084"
            ]
          },
          "metadata": {},
          "execution_count": 149
        }
      ]
    },
    {
      "cell_type": "code",
      "metadata": {
        "colab": {
          "base_uri": "https://localhost:8080/",
          "height": 441
        },
        "id": "wN4XoNySKqoY",
        "outputId": "4905952f-4778-4312-8aaa-ddfd779e8c85"
      },
      "source": [
        "def autolabel(rects):\n",
        "    \"\"\"Attach a text label above each bar in *rects*, displaying its height.\"\"\"\n",
        "    for rect in rects:\n",
        "        height = rect.get_height()\n",
        "        ax.annotate('{}'.format(height),\n",
        "                    xy=(rect.get_x() + rect.get_width() / 2, height),\n",
        "                    xytext=(0, 3),  # 3 points vertical offset\n",
        "                    textcoords=\"offset points\",\n",
        "                    ha='center', va='bottom')\n",
        "        \n",
        "\n",
        "labels = ['Home', 'Hospital']\n",
        "# Two values: # of male (or female) in class 0, # of male (or female) in class 1\n",
        "men_iii= newdata[newdata['Sesso']=='M']['Prognosi'].value_counts() \n",
        "women_iii = newdata[newdata['Sesso']=='F']['Prognosi'].value_counts() \n",
        "\n",
        "x = np.arange(len(labels))  # the label locations\n",
        "width = 0.35  # the width of the bars\n",
        "\n",
        "fig, ax = plt.subplots(figsize=(6,6))\n",
        "rects1 = ax.bar(x - width/2, men_iii, width, label='Men', color='royalblue')\n",
        "rects2 = ax.bar(x + width/2, women_iii, width, label='Women', color='lightcoral')\n",
        "\n",
        "# Add some text for labels, title and custom x-axis tick labels, etc.\n",
        "ax.set_title('III wave')\n",
        "ax.set_xticks(x)\n",
        "ax.set_xticklabels(labels)\n",
        "ax.legend()\n",
        "\n",
        "\n",
        "\n",
        "\n",
        "\n",
        "autolabel(rects1)\n",
        "autolabel(rects2)\n",
        "\n",
        "fig.tight_layout()\n",
        "\n",
        "plt.show()"
      ],
      "execution_count": null,
      "outputs": [
        {
          "output_type": "display_data",
          "data": {
            "image/png": "[encoded data removed]",
            "text/plain": [
              "<Figure size 432x432 with 1 Axes>"
            ]
          },
          "metadata": {
            "needs_background": "light"
          }
        }
      ]
    },
    {
      "cell_type": "code",
      "metadata": {
        "colab": {
          "base_uri": "https://localhost:8080/",
          "height": 441
        },
        "id": "vOmoeW_WMa3a",
        "outputId": "9b6aba28-bdc4-4270-f76a-c10dc069c67e"
      },
      "source": [
        "\n",
        "\n",
        "labels = ['Home', 'Hospital']\n",
        "# Two values: # of male (or female) in class 0, # of male (or female) in class 1\n",
        "men_iii= df_training[df_training['Sesso']==0]['Prognosi'].value_counts() \n",
        "women_iii = df_training[df_training['Sesso']==1]['Prognosi'].value_counts() \n",
        "\n",
        "x = np.arange(len(labels))  # the label locations\n",
        "width = 0.35  # the width of the bars\n",
        "\n",
        "fig, ax = plt.subplots(figsize=(6,6))\n",
        "rects1 = ax.bar(x - width/2, men_iii, width, label='Men', color='royalblue')\n",
        "rects2 = ax.bar(x + width/2, women_iii, width, label='Women', color='lightcoral')\n",
        "\n",
        "# Add some text for labels, title and custom x-axis tick labels, etc.\n",
        "ax.set_title('Training set')\n",
        "ax.set_xticks(x)\n",
        "ax.set_xticklabels(labels)\n",
        "ax.legend()\n",
        "\n",
        "\n",
        "\n",
        "\n",
        "\n",
        "autolabel(rects1)\n",
        "autolabel(rects2)\n",
        "\n",
        "fig.tight_layout()\n",
        "\n",
        "plt.show()"
      ],
      "execution_count": null,
      "outputs": [
        {
          "output_type": "display_data",
          "data": {
            "image/png": "[encoded data removed]",
            "text/plain": [
              "<Figure size 432x432 with 1 Axes>"
            ]
          },
          "metadata": {
            "needs_background": "light"
          }
        }
      ]
    },
    {
      "cell_type": "markdown",
      "metadata": {
        "id": "-sadXOZaCe-8"
      },
      "source": [
        "Creo la colonna comorb >2"
      ]
    },
    {
      "cell_type": "code",
      "metadata": {
        "id": "iYQbXjG7CiNX"
      },
      "source": [
        "comorb_feat = ['PatologieCardiovascolari', 'CardiopatiaIschemica', 'FibrillazioneAtriale',\n",
        "               'ScompensoCardiaco', 'Ictus', 'IpertensioneArteriosa', 'DiabeteMellitoTipo2',\n",
        "               'Demenza', 'Bpco', 'CancroAttivoNegliUltimi5Anni', 'InsufficienzaRenaleCronica',\n",
        "               'InsufficienzaRespiratoria']\n",
        "newdata['ComorbiditaMaggioreDue'] = newdata[comorb_feat].astype(int).sum(axis=1)>2"
      ],
      "execution_count": null,
      "outputs": []
    },
    {
      "cell_type": "code",
      "metadata": {
        "colab": {
          "base_uri": "https://localhost:8080/",
          "height": 496
        },
        "id": "1BJrCKBkEFPP",
        "outputId": "35047352-f059-40a2-99b8-cb3b18a85345"
      },
      "source": [
        "y_true_newdata = [int(x=='Hospital') for x in newdata['Prognosi']]\n",
        "y_test_newdata = [int(x=='Hospital') for x in newdata['Predizione']]\n",
        "yprob_class_alfabeto = [x for x in newdata['ProbabilitaClinica']] # probabilità della classe predetta\n",
        "\n",
        "probpred_hosp = [0]*len(y_test_newdata)\n",
        "probpred_home = [0]*len(y_test_newdata)\n",
        "\n",
        "for i,x in enumerate(yprob_class_alfabeto):\n",
        "  if y_test_newdata[i]==1:\n",
        "    probpred_hosp[i] = x\n",
        "    probpred_home[i] = 1-x\n",
        "  else:\n",
        "    probpred_hosp[i] = 1-x\n",
        "    probpred_home[i] = x\n",
        "\n",
        "newdata['Prob_Hosp'] = probpred_hosp\n",
        "newdata['Prob_Home'] = probpred_home\n",
        "\n",
        "newdata"
      ],
      "execution_count": null,
      "outputs": [
        {
          "output_type": "execute_result",
          "data": {
            "text/html": [
              "<div>\n",
              "<style scoped>\n",
              "    .dataframe tbody tr th:only-of-type {\n",
              "        vertical-align: middle;\n",
              "    }\n",
              "\n",
              "    .dataframe tbody tr th {\n",
              "        vertical-align: top;\n",
              "    }\n",
              "\n",
              "    .dataframe thead th {\n",
              "        text-align: right;\n",
              "    }\n",
              "</style>\n",
              "<table border=\"1\" class=\"dataframe\">\n",
              "  <thead>\n",
              "    <tr style=\"text-align: right;\">\n",
              "      <th></th>\n",
              "      <th>ID</th>\n",
              "      <th>DataNascita</th>\n",
              "      <th>Sesso</th>\n",
              "      <th>Temperatura</th>\n",
              "      <th>Giorni</th>\n",
              "      <th>Tosse</th>\n",
              "      <th>DifficoltaRespiratorie</th>\n",
              "      <th>Wbc</th>\n",
              "      <th>Pcr</th>\n",
              "      <th>Saturazione</th>\n",
              "      <th>Ferritina</th>\n",
              "      <th>PatologieCardiovascolari</th>\n",
              "      <th>CardiopatiaIschemica</th>\n",
              "      <th>FibrillazioneAtriale</th>\n",
              "      <th>ScompensoCardiaco</th>\n",
              "      <th>Ictus</th>\n",
              "      <th>IpertensioneArteriosa</th>\n",
              "      <th>DiabeteMellitoTipo2</th>\n",
              "      <th>Demenza</th>\n",
              "      <th>Bpco</th>\n",
              "      <th>CancroAttivoNegliUltimi5Anni</th>\n",
              "      <th>InsufficienzaRenaleCronica</th>\n",
              "      <th>InsufficienzaRespiratoria</th>\n",
              "      <th>Consolidation</th>\n",
              "      <th>Edema</th>\n",
              "      <th>Effusion</th>\n",
              "      <th>Infiltration</th>\n",
              "      <th>LungOpacity</th>\n",
              "      <th>Prognosi</th>\n",
              "      <th>Predizione</th>\n",
              "      <th>ProbabilitaClinica</th>\n",
              "      <th>Riaccesso</th>\n",
              "      <th>Numero Riaccessi</th>\n",
              "      <th>Giorni tra primo e ultimo riaccesso</th>\n",
              "      <th>Prognosi Ultimo Riaccesso</th>\n",
              "      <th>Predizione Ultimo Riaccesso</th>\n",
              "      <th>ProbabilitaClinica Ultimo Riaccesso</th>\n",
              "      <th>Eta</th>\n",
              "      <th>ComorbiditaMaggioreDue</th>\n",
              "      <th>Prob_Hosp</th>\n",
              "      <th>Prob_Home</th>\n",
              "    </tr>\n",
              "  </thead>\n",
              "  <tbody>\n",
              "    <tr>\n",
              "      <th>0</th>\n",
              "      <td>1</td>\n",
              "      <td>1955-03-25T00:00:00.0000000</td>\n",
              "      <td>M</td>\n",
              "      <td>36.0</td>\n",
              "      <td>NaN</td>\n",
              "      <td>True</td>\n",
              "      <td>False</td>\n",
              "      <td>3.61</td>\n",
              "      <td>1.07</td>\n",
              "      <td>99.0</td>\n",
              "      <td>NaN</td>\n",
              "      <td>False</td>\n",
              "      <td>False</td>\n",
              "      <td>False</td>\n",
              "      <td>False</td>\n",
              "      <td>False</td>\n",
              "      <td>False</td>\n",
              "      <td>False</td>\n",
              "      <td>False</td>\n",
              "      <td>False</td>\n",
              "      <td>False</td>\n",
              "      <td>False</td>\n",
              "      <td>False</td>\n",
              "      <td>0.287</td>\n",
              "      <td>0.126</td>\n",
              "      <td>0.110</td>\n",
              "      <td>0.525</td>\n",
              "      <td>0.517</td>\n",
              "      <td>Home</td>\n",
              "      <td>Home</td>\n",
              "      <td>0.759646</td>\n",
              "      <td>No</td>\n",
              "      <td>NaN</td>\n",
              "      <td>NaN</td>\n",
              "      <td>NaN</td>\n",
              "      <td>NaN</td>\n",
              "      <td>NaN</td>\n",
              "      <td>67</td>\n",
              "      <td>False</td>\n",
              "      <td>0.240354</td>\n",
              "      <td>0.759646</td>\n",
              "    </tr>\n",
              "    <tr>\n",
              "      <th>1</th>\n",
              "      <td>2</td>\n",
              "      <td>1973-06-08T00:00:00.0000000</td>\n",
              "      <td>M</td>\n",
              "      <td>NaN</td>\n",
              "      <td>3.0</td>\n",
              "      <td>False</td>\n",
              "      <td>False</td>\n",
              "      <td>3.67</td>\n",
              "      <td>1.70</td>\n",
              "      <td>98.0</td>\n",
              "      <td>NaN</td>\n",
              "      <td>False</td>\n",
              "      <td>False</td>\n",
              "      <td>False</td>\n",
              "      <td>False</td>\n",
              "      <td>False</td>\n",
              "      <td>False</td>\n",
              "      <td>False</td>\n",
              "      <td>False</td>\n",
              "      <td>False</td>\n",
              "      <td>False</td>\n",
              "      <td>False</td>\n",
              "      <td>False</td>\n",
              "      <td>0.109</td>\n",
              "      <td>0.243</td>\n",
              "      <td>0.078</td>\n",
              "      <td>0.504</td>\n",
              "      <td>0.249</td>\n",
              "      <td>Home</td>\n",
              "      <td>Home</td>\n",
              "      <td>0.741989</td>\n",
              "      <td>Yes</td>\n",
              "      <td>1.0</td>\n",
              "      <td>3.0</td>\n",
              "      <td>Hospital</td>\n",
              "      <td>Home</td>\n",
              "      <td>0.539318</td>\n",
              "      <td>48</td>\n",
              "      <td>False</td>\n",
              "      <td>0.258011</td>\n",
              "      <td>0.741989</td>\n",
              "    </tr>\n",
              "    <tr>\n",
              "      <th>2</th>\n",
              "      <td>3</td>\n",
              "      <td>1936-05-22T00:00:00.0000000</td>\n",
              "      <td>M</td>\n",
              "      <td>37.3</td>\n",
              "      <td>NaN</td>\n",
              "      <td>False</td>\n",
              "      <td>False</td>\n",
              "      <td>1.68</td>\n",
              "      <td>2.21</td>\n",
              "      <td>98.0</td>\n",
              "      <td>NaN</td>\n",
              "      <td>False</td>\n",
              "      <td>False</td>\n",
              "      <td>False</td>\n",
              "      <td>False</td>\n",
              "      <td>False</td>\n",
              "      <td>True</td>\n",
              "      <td>False</td>\n",
              "      <td>False</td>\n",
              "      <td>True</td>\n",
              "      <td>False</td>\n",
              "      <td>False</td>\n",
              "      <td>True</td>\n",
              "      <td>0.137</td>\n",
              "      <td>0.229</td>\n",
              "      <td>0.047</td>\n",
              "      <td>0.551</td>\n",
              "      <td>0.373</td>\n",
              "      <td>Hospital</td>\n",
              "      <td>Home</td>\n",
              "      <td>0.695750</td>\n",
              "      <td>No</td>\n",
              "      <td>NaN</td>\n",
              "      <td>NaN</td>\n",
              "      <td>NaN</td>\n",
              "      <td>NaN</td>\n",
              "      <td>NaN</td>\n",
              "      <td>85</td>\n",
              "      <td>True</td>\n",
              "      <td>0.304250</td>\n",
              "      <td>0.695750</td>\n",
              "    </tr>\n",
              "    <tr>\n",
              "      <th>3</th>\n",
              "      <td>4</td>\n",
              "      <td>1942-08-16T00:00:00.0000000</td>\n",
              "      <td>F</td>\n",
              "      <td>36.0</td>\n",
              "      <td>NaN</td>\n",
              "      <td>False</td>\n",
              "      <td>True</td>\n",
              "      <td>5.60</td>\n",
              "      <td>6.81</td>\n",
              "      <td>97.0</td>\n",
              "      <td>NaN</td>\n",
              "      <td>False</td>\n",
              "      <td>False</td>\n",
              "      <td>False</td>\n",
              "      <td>False</td>\n",
              "      <td>False</td>\n",
              "      <td>True</td>\n",
              "      <td>False</td>\n",
              "      <td>False</td>\n",
              "      <td>False</td>\n",
              "      <td>False</td>\n",
              "      <td>False</td>\n",
              "      <td>False</td>\n",
              "      <td>0.543</td>\n",
              "      <td>0.510</td>\n",
              "      <td>0.335</td>\n",
              "      <td>0.608</td>\n",
              "      <td>0.873</td>\n",
              "      <td>Hospital</td>\n",
              "      <td>Home</td>\n",
              "      <td>0.614042</td>\n",
              "      <td>No</td>\n",
              "      <td>NaN</td>\n",
              "      <td>NaN</td>\n",
              "      <td>NaN</td>\n",
              "      <td>NaN</td>\n",
              "      <td>NaN</td>\n",
              "      <td>79</td>\n",
              "      <td>False</td>\n",
              "      <td>0.385958</td>\n",
              "      <td>0.614042</td>\n",
              "    </tr>\n",
              "    <tr>\n",
              "      <th>4</th>\n",
              "      <td>5</td>\n",
              "      <td>1938-07-25T00:00:00.0000000</td>\n",
              "      <td>F</td>\n",
              "      <td>36.0</td>\n",
              "      <td>3.0</td>\n",
              "      <td>True</td>\n",
              "      <td>False</td>\n",
              "      <td>2.90</td>\n",
              "      <td>7.14</td>\n",
              "      <td>93.0</td>\n",
              "      <td>NaN</td>\n",
              "      <td>False</td>\n",
              "      <td>False</td>\n",
              "      <td>False</td>\n",
              "      <td>False</td>\n",
              "      <td>False</td>\n",
              "      <td>True</td>\n",
              "      <td>False</td>\n",
              "      <td>False</td>\n",
              "      <td>False</td>\n",
              "      <td>False</td>\n",
              "      <td>False</td>\n",
              "      <td>False</td>\n",
              "      <td>0.510</td>\n",
              "      <td>0.484</td>\n",
              "      <td>0.543</td>\n",
              "      <td>0.580</td>\n",
              "      <td>0.609</td>\n",
              "      <td>Home</td>\n",
              "      <td>Home</td>\n",
              "      <td>0.660945</td>\n",
              "      <td>Yes</td>\n",
              "      <td>1.0</td>\n",
              "      <td>2.0</td>\n",
              "      <td>Hospital</td>\n",
              "      <td>Home</td>\n",
              "      <td>0.614383</td>\n",
              "      <td>83</td>\n",
              "      <td>False</td>\n",
              "      <td>0.339055</td>\n",
              "      <td>0.660945</td>\n",
              "    </tr>\n",
              "    <tr>\n",
              "      <th>...</th>\n",
              "      <td>...</td>\n",
              "      <td>...</td>\n",
              "      <td>...</td>\n",
              "      <td>...</td>\n",
              "      <td>...</td>\n",
              "      <td>...</td>\n",
              "      <td>...</td>\n",
              "      <td>...</td>\n",
              "      <td>...</td>\n",
              "      <td>...</td>\n",
              "      <td>...</td>\n",
              "      <td>...</td>\n",
              "      <td>...</td>\n",
              "      <td>...</td>\n",
              "      <td>...</td>\n",
              "      <td>...</td>\n",
              "      <td>...</td>\n",
              "      <td>...</td>\n",
              "      <td>...</td>\n",
              "      <td>...</td>\n",
              "      <td>...</td>\n",
              "      <td>...</td>\n",
              "      <td>...</td>\n",
              "      <td>...</td>\n",
              "      <td>...</td>\n",
              "      <td>...</td>\n",
              "      <td>...</td>\n",
              "      <td>...</td>\n",
              "      <td>...</td>\n",
              "      <td>...</td>\n",
              "      <td>...</td>\n",
              "      <td>...</td>\n",
              "      <td>...</td>\n",
              "      <td>...</td>\n",
              "      <td>...</td>\n",
              "      <td>...</td>\n",
              "      <td>...</td>\n",
              "      <td>...</td>\n",
              "      <td>...</td>\n",
              "      <td>...</td>\n",
              "      <td>...</td>\n",
              "    </tr>\n",
              "    <tr>\n",
              "      <th>457</th>\n",
              "      <td>496</td>\n",
              "      <td>1979-06-27T00:00:00.0000000</td>\n",
              "      <td>M</td>\n",
              "      <td>NaN</td>\n",
              "      <td>NaN</td>\n",
              "      <td>False</td>\n",
              "      <td>False</td>\n",
              "      <td>10.62</td>\n",
              "      <td>16.92</td>\n",
              "      <td>NaN</td>\n",
              "      <td>NaN</td>\n",
              "      <td>False</td>\n",
              "      <td>False</td>\n",
              "      <td>False</td>\n",
              "      <td>False</td>\n",
              "      <td>False</td>\n",
              "      <td>False</td>\n",
              "      <td>False</td>\n",
              "      <td>False</td>\n",
              "      <td>False</td>\n",
              "      <td>False</td>\n",
              "      <td>False</td>\n",
              "      <td>False</td>\n",
              "      <td>0.675</td>\n",
              "      <td>0.593</td>\n",
              "      <td>0.534</td>\n",
              "      <td>0.656</td>\n",
              "      <td>0.878</td>\n",
              "      <td>Hospital</td>\n",
              "      <td>Hospital</td>\n",
              "      <td>0.618361</td>\n",
              "      <td>No</td>\n",
              "      <td>NaN</td>\n",
              "      <td>NaN</td>\n",
              "      <td>NaN</td>\n",
              "      <td>NaN</td>\n",
              "      <td>NaN</td>\n",
              "      <td>42</td>\n",
              "      <td>False</td>\n",
              "      <td>0.618361</td>\n",
              "      <td>0.381639</td>\n",
              "    </tr>\n",
              "    <tr>\n",
              "      <th>458</th>\n",
              "      <td>497</td>\n",
              "      <td>1967-02-03T00:00:00.0000000</td>\n",
              "      <td>M</td>\n",
              "      <td>37.9</td>\n",
              "      <td>NaN</td>\n",
              "      <td>False</td>\n",
              "      <td>False</td>\n",
              "      <td>9.67</td>\n",
              "      <td>19.74</td>\n",
              "      <td>92.0</td>\n",
              "      <td>NaN</td>\n",
              "      <td>False</td>\n",
              "      <td>False</td>\n",
              "      <td>False</td>\n",
              "      <td>False</td>\n",
              "      <td>False</td>\n",
              "      <td>False</td>\n",
              "      <td>False</td>\n",
              "      <td>False</td>\n",
              "      <td>False</td>\n",
              "      <td>False</td>\n",
              "      <td>False</td>\n",
              "      <td>False</td>\n",
              "      <td>0.546</td>\n",
              "      <td>0.509</td>\n",
              "      <td>0.225</td>\n",
              "      <td>0.632</td>\n",
              "      <td>0.781</td>\n",
              "      <td>Hospital</td>\n",
              "      <td>Hospital</td>\n",
              "      <td>0.586411</td>\n",
              "      <td>No</td>\n",
              "      <td>NaN</td>\n",
              "      <td>NaN</td>\n",
              "      <td>NaN</td>\n",
              "      <td>NaN</td>\n",
              "      <td>NaN</td>\n",
              "      <td>55</td>\n",
              "      <td>False</td>\n",
              "      <td>0.586411</td>\n",
              "      <td>0.413589</td>\n",
              "    </tr>\n",
              "    <tr>\n",
              "      <th>459</th>\n",
              "      <td>498</td>\n",
              "      <td>1938-06-18T00:00:00.0000000</td>\n",
              "      <td>M</td>\n",
              "      <td>36.5</td>\n",
              "      <td>2.0</td>\n",
              "      <td>True</td>\n",
              "      <td>True</td>\n",
              "      <td>4.80</td>\n",
              "      <td>12.44</td>\n",
              "      <td>85.0</td>\n",
              "      <td>NaN</td>\n",
              "      <td>False</td>\n",
              "      <td>False</td>\n",
              "      <td>False</td>\n",
              "      <td>False</td>\n",
              "      <td>False</td>\n",
              "      <td>False</td>\n",
              "      <td>False</td>\n",
              "      <td>False</td>\n",
              "      <td>False</td>\n",
              "      <td>False</td>\n",
              "      <td>False</td>\n",
              "      <td>False</td>\n",
              "      <td>0.576</td>\n",
              "      <td>0.513</td>\n",
              "      <td>0.590</td>\n",
              "      <td>0.661</td>\n",
              "      <td>0.890</td>\n",
              "      <td>Hospital</td>\n",
              "      <td>Hospital</td>\n",
              "      <td>0.577562</td>\n",
              "      <td>No</td>\n",
              "      <td>NaN</td>\n",
              "      <td>NaN</td>\n",
              "      <td>NaN</td>\n",
              "      <td>NaN</td>\n",
              "      <td>NaN</td>\n",
              "      <td>83</td>\n",
              "      <td>False</td>\n",
              "      <td>0.577562</td>\n",
              "      <td>0.422438</td>\n",
              "    </tr>\n",
              "    <tr>\n",
              "      <th>460</th>\n",
              "      <td>499</td>\n",
              "      <td>1938-05-02T00:00:00.0000000</td>\n",
              "      <td>M</td>\n",
              "      <td>38.2</td>\n",
              "      <td>3.0</td>\n",
              "      <td>False</td>\n",
              "      <td>False</td>\n",
              "      <td>6.30</td>\n",
              "      <td>5.17</td>\n",
              "      <td>96.0</td>\n",
              "      <td>NaN</td>\n",
              "      <td>False</td>\n",
              "      <td>False</td>\n",
              "      <td>False</td>\n",
              "      <td>False</td>\n",
              "      <td>False</td>\n",
              "      <td>False</td>\n",
              "      <td>False</td>\n",
              "      <td>False</td>\n",
              "      <td>False</td>\n",
              "      <td>False</td>\n",
              "      <td>False</td>\n",
              "      <td>False</td>\n",
              "      <td>0.124</td>\n",
              "      <td>0.074</td>\n",
              "      <td>0.066</td>\n",
              "      <td>0.516</td>\n",
              "      <td>0.177</td>\n",
              "      <td>Hospital</td>\n",
              "      <td>Home</td>\n",
              "      <td>0.683699</td>\n",
              "      <td>No</td>\n",
              "      <td>NaN</td>\n",
              "      <td>NaN</td>\n",
              "      <td>NaN</td>\n",
              "      <td>NaN</td>\n",
              "      <td>NaN</td>\n",
              "      <td>84</td>\n",
              "      <td>False</td>\n",
              "      <td>0.316301</td>\n",
              "      <td>0.683699</td>\n",
              "    </tr>\n",
              "    <tr>\n",
              "      <th>461</th>\n",
              "      <td>500</td>\n",
              "      <td>1940-07-23T00:00:00.0000000</td>\n",
              "      <td>F</td>\n",
              "      <td>36.0</td>\n",
              "      <td>1.0</td>\n",
              "      <td>False</td>\n",
              "      <td>False</td>\n",
              "      <td>5.00</td>\n",
              "      <td>15.27</td>\n",
              "      <td>97.0</td>\n",
              "      <td>NaN</td>\n",
              "      <td>False</td>\n",
              "      <td>False</td>\n",
              "      <td>False</td>\n",
              "      <td>False</td>\n",
              "      <td>False</td>\n",
              "      <td>False</td>\n",
              "      <td>False</td>\n",
              "      <td>False</td>\n",
              "      <td>False</td>\n",
              "      <td>False</td>\n",
              "      <td>False</td>\n",
              "      <td>False</td>\n",
              "      <td>0.580</td>\n",
              "      <td>0.551</td>\n",
              "      <td>0.784</td>\n",
              "      <td>0.589</td>\n",
              "      <td>0.663</td>\n",
              "      <td>Home</td>\n",
              "      <td>Home</td>\n",
              "      <td>0.613641</td>\n",
              "      <td>No</td>\n",
              "      <td>NaN</td>\n",
              "      <td>NaN</td>\n",
              "      <td>NaN</td>\n",
              "      <td>NaN</td>\n",
              "      <td>NaN</td>\n",
              "      <td>81</td>\n",
              "      <td>False</td>\n",
              "      <td>0.386359</td>\n",
              "      <td>0.613641</td>\n",
              "    </tr>\n",
              "  </tbody>\n",
              "</table>\n",
              "<p>462 rows × 41 columns</p>\n",
              "</div>"
            ],
            "text/plain": [
              "      ID                  DataNascita  ... Prob_Hosp  Prob_Home\n",
              "0      1  1955-03-25T00:00:00.0000000  ...  0.240354   0.759646\n",
              "1      2  1973-06-08T00:00:00.0000000  ...  0.258011   0.741989\n",
              "2      3  1936-05-22T00:00:00.0000000  ...  0.304250   0.695750\n",
              "3      4  1942-08-16T00:00:00.0000000  ...  0.385958   0.614042\n",
              "4      5  1938-07-25T00:00:00.0000000  ...  0.339055   0.660945\n",
              "..   ...                          ...  ...       ...        ...\n",
              "457  496  1979-06-27T00:00:00.0000000  ...  0.618361   0.381639\n",
              "458  497  1967-02-03T00:00:00.0000000  ...  0.586411   0.413589\n",
              "459  498  1938-06-18T00:00:00.0000000  ...  0.577562   0.422438\n",
              "460  499  1938-05-02T00:00:00.0000000  ...  0.316301   0.683699\n",
              "461  500  1940-07-23T00:00:00.0000000  ...  0.386359   0.613641\n",
              "\n",
              "[462 rows x 41 columns]"
            ]
          },
          "metadata": {},
          "execution_count": 61
        }
      ]
    },
    {
      "cell_type": "markdown",
      "metadata": {
        "id": "TlyHgJwONs4L"
      },
      "source": [
        "Comorbidities comparison"
      ]
    },
    {
      "cell_type": "code",
      "metadata": {
        "colab": {
          "base_uri": "https://localhost:8080/",
          "height": 441
        },
        "id": "mh8EDkPYNu-t",
        "outputId": "dfaa375b-3652-450e-bcfd-214629444b76"
      },
      "source": [
        "\n",
        "nocomorb= newdata[newdata['ComorbiditaMaggioreDue']==False]['Prognosi'].value_counts() \n",
        "comorb = newdata[newdata['ComorbiditaMaggioreDue']==True]['Prognosi'].value_counts() \n",
        "\n",
        "x = np.arange(len(labels))  # the label locations\n",
        "width = 0.35  # the width of the bars\n",
        "\n",
        "fig, ax = plt.subplots(figsize=(6,6))\n",
        "rects1 = ax.bar(x - width/2, nocomorb, width, label='Comorb <= 2', color='royalblue')\n",
        "rects2 = ax.bar(x + width/2, comorb, width, label='Comorb > 2', color='lightcoral')\n",
        "\n",
        "# Add some text for labels, title and custom x-axis tick labels, etc.\n",
        "ax.set_title('III wave')\n",
        "ax.set_xticks(x)\n",
        "ax.set_xticklabels(labels)\n",
        "ax.legend()\n",
        "\n",
        "\n",
        "\n",
        "\n",
        "\n",
        "autolabel(rects1)\n",
        "autolabel(rects2)\n",
        "\n",
        "fig.tight_layout()\n",
        "\n",
        "plt.show()"
      ],
      "execution_count": null,
      "outputs": [
        {
          "output_type": "display_data",
          "data": {
            "image/png": "[encoded data removed]",
            "text/plain": [
              "<Figure size 432x432 with 1 Axes>"
            ]
          },
          "metadata": {
            "needs_background": "light"
          }
        }
      ]
    },
    {
      "cell_type": "code",
      "metadata": {
        "colab": {
          "base_uri": "https://localhost:8080/",
          "height": 441
        },
        "id": "YeWoIzXBOKUZ",
        "outputId": "99aab47f-e5be-4111-f7fa-c6458426c9e5"
      },
      "source": [
        "nocomorb= df_training[df_training['ComorbiditaMaggioreDue']==0]['Prognosi'].value_counts() \n",
        "comorb = df_training[df_training['ComorbiditaMaggioreDue']==1]['Prognosi'].value_counts() \n",
        "\n",
        "x = np.arange(len(labels))  # the label locations\n",
        "width = 0.35  # the width of the bars\n",
        "\n",
        "fig, ax = plt.subplots(figsize=(6,6))\n",
        "rects1 = ax.bar(x - width/2, nocomorb, width, label='Comorb <= 2', color='royalblue')\n",
        "rects2 = ax.bar(x + width/2, comorb, width, label='Comorb > 2', color='lightcoral')\n",
        "\n",
        "# Add some text for labels, title and custom x-axis tick labels, etc.\n",
        "ax.set_title('Training set')\n",
        "ax.set_xticks(x)\n",
        "ax.set_xticklabels(labels)\n",
        "ax.legend()\n",
        "\n",
        "\n",
        "\n",
        "\n",
        "\n",
        "autolabel(rects1)\n",
        "autolabel(rects2)\n",
        "\n",
        "fig.tight_layout()\n",
        "\n",
        "plt.show()"
      ],
      "execution_count": null,
      "outputs": [
        {
          "output_type": "display_data",
          "data": {
            "image/png": "[encoded data removed]",
            "text/plain": [
              "<Figure size 432x432 with 1 Axes>"
            ]
          },
          "metadata": {
            "needs_background": "light"
          }
        }
      ]
    },
    {
      "cell_type": "code",
      "metadata": {
        "colab": {
          "base_uri": "https://localhost:8080/",
          "height": 282
        },
        "id": "CVxHcEHOH9gi",
        "outputId": "472d5eba-c54e-45b1-8122-9151d8c01782"
      },
      "source": [
        "training_class = df_training.groupby(\"Prognosi\")[\"Prognosi\"].count()\n",
        "training_class.plot.pie(autopct=\"%.1f%%\", title='Proporzione classi Training set')"
      ],
      "execution_count": null,
      "outputs": [
        {
          "output_type": "execute_result",
          "data": {
            "text/plain": [
              "<matplotlib.axes._subplots.AxesSubplot at 0x7fa907e00350>"
            ]
          },
          "metadata": {},
          "execution_count": 65
        },
        {
          "output_type": "display_data",
          "data": {
            "image/png": "[encoded data removed]",
            "text/plain": [
              "<Figure size 432x288 with 1 Axes>"
            ]
          },
          "metadata": {}
        }
      ]
    },
    {
      "cell_type": "code",
      "metadata": {
        "colab": {
          "base_uri": "https://localhost:8080/",
          "height": 282
        },
        "id": "Tww8wzNyIqyp",
        "outputId": "9babd496-2a40-4836-bb43-1274ecfcbff1"
      },
      "source": [
        "test_class = df_test.groupby(\"Prognosi\")[\"Prognosi\"].count()\n",
        "test_class.plot.pie(autopct=\"%.1f%%\", title='Proporzione classi Test set')"
      ],
      "execution_count": null,
      "outputs": [
        {
          "output_type": "execute_result",
          "data": {
            "text/plain": [
              "<matplotlib.axes._subplots.AxesSubplot at 0x7fa907dbf9d0>"
            ]
          },
          "metadata": {},
          "execution_count": 66
        },
        {
          "output_type": "display_data",
          "data": {
            "image/png": "[encoded data removed]",
            "text/plain": [
              "<Figure size 432x288 with 1 Axes>"
            ]
          },
          "metadata": {}
        }
      ]
    },
    {
      "cell_type": "code",
      "metadata": {
        "colab": {
          "base_uri": "https://localhost:8080/",
          "height": 282
        },
        "id": "Dr4CxOxnLFEk",
        "outputId": "3312fcd8-6400-4685-eab4-14e1589fe305"
      },
      "source": [
        "terzaond_class = newdata.groupby(\"Prognosi\")[\"Prognosi\"].count()\n",
        "terzaond_class.plot.pie(autopct=\"%.1f%%\", title='Proporzione classi Terza ondata')"
      ],
      "execution_count": null,
      "outputs": [
        {
          "output_type": "execute_result",
          "data": {
            "text/plain": [
              "<matplotlib.axes._subplots.AxesSubplot at 0x7fa91cb28890>"
            ]
          },
          "metadata": {},
          "execution_count": 67
        },
        {
          "output_type": "display_data",
          "data": {
            "image/png": "[encoded data removed]",
            "text/plain": [
              "<Figure size 432x288 with 1 Axes>"
            ]
          },
          "metadata": {}
        }
      ]
    },
    {
      "cell_type": "markdown",
      "metadata": {
        "id": "q1elGjKMNvz4"
      },
      "source": [
        "#### Prediction III wave"
      ]
    },
    {
      "cell_type": "code",
      "metadata": {
        "id": "iznSNyZmY7qw"
      },
      "source": [
        "terzaond_dataset = newdata[featcol]\n",
        "\n",
        "terzaond_dataset = terzaond_dataset.replace('M', 0)\n",
        "terzaond_dataset = terzaond_dataset.replace('F', 1)\n",
        "\n",
        "# Data Transformation\n",
        "dataset_III = impute_nan_test(terzaond_dataset, \n",
        "                             feat2impute_allt)\n",
        "dataset_III_norm = scaler.transform(dataset_III)\n",
        "\n",
        "# Prediction\n",
        "y_pred_III = clf.predict(dataset_III_norm)"
      ],
      "execution_count": null,
      "outputs": []
    },
    {
      "cell_type": "code",
      "metadata": {
        "colab": {
          "base_uri": "https://localhost:8080/",
          "height": 283
        },
        "id": "bKtIYUC1ZXQf",
        "outputId": "fe972e1a-28d0-498b-8b91-e02ff787602d"
      },
      "source": [
        "y_pred_proba = clf.predict_proba(dataset_III_norm)\n",
        "y_III_new = (y_pred_proba[:, 1]>=selected_threshold).astype(int)\n",
        "tn, fp, fn, tp = confusion_matrix(y_true_newdata, y_III_new).ravel()\n",
        "\n",
        "confmat_newmod = pd.DataFrame(data=np.array([[tn, fp], [fn, tp]]), index=['Home', 'Hospital'], \n",
        "                       columns=['Predicted Home', 'Predicted Hospital'])\n",
        "sns.heatmap(confmat_newmod, annot=True, fmt='d')"
      ],
      "execution_count": null,
      "outputs": [
        {
          "output_type": "execute_result",
          "data": {
            "text/plain": [
              "<matplotlib.axes._subplots.AxesSubplot at 0x7fa907d0df50>"
            ]
          },
          "metadata": {},
          "execution_count": 89
        },
        {
          "output_type": "display_data",
          "data": {
            "image/png": "[encoded data removed]",
            "text/plain": [
              "<Figure size 432x288 with 2 Axes>"
            ]
          },
          "metadata": {
            "needs_background": "light"
          }
        }
      ]
    },
    {
      "cell_type": "code",
      "metadata": {
        "colab": {
          "base_uri": "https://localhost:8080/",
          "height": 560
        },
        "id": "L-Hpxr0hZxpk",
        "outputId": "6f6d0230-9251-49d7-ecda-dd3ff14b1cd8"
      },
      "source": [
        "def autolabel(rects):\n",
        "    \"\"\"Attach a text label above each bar in *rects*, displaying its height.\"\"\"\n",
        "    for rect in rects:\n",
        "        height = rect.get_height()\n",
        "        ax.annotate('{:0.2f}'.format(height),\n",
        "                    xy=(rect.get_x() + rect.get_width() / 2, height),\n",
        "                    xytext=(0, 3),  # 3 points vertical offset\n",
        "                    textcoords=\"offset points\",\n",
        "                    ha='center', va='bottom')\n",
        "\n",
        "labels = ['AUC', 'PRC', 'Accuracy', 'Precision', 'Recall', 'Specificity', 'F1_score']\n",
        "x = np.arange(len(labels))\n",
        "\n",
        "fig, ax = plt.subplots(figsize=(8,8))\n",
        "ax.spines[\"bottom\"].set_lw(0.5)  \n",
        "ax.spines[\"top\"].set_visible(False)    \n",
        "ax.spines[\"bottom\"].set_visible(True)    \n",
        "ax.spines[\"right\"].set_visible(False)    \n",
        "ax.spines[\"left\"].set_visible(False)    \n",
        "r = ax.bar(x, [roc_auc_score(y_true_newdata, y_pred_proba[:,1]),\n",
        "               average_precision_score(y_true_newdata, y_pred_proba[:,1]), \n",
        "               accuracy_score(y_true_newdata, y_III_new), \n",
        "               precision_score(y_true_newdata, y_III_new), \n",
        "               recall_score(y_true_newdata, y_III_new), \n",
        "               tn/(tn+fp),\n",
        "               f1_score(y_true_newdata, y_III_new)], width = 0.35, \n",
        "           label=labels, color=['#1a5276', '#1f618d', '#2471a3', '#2980b9', '#5499c7', '#7fb3d5', '#a9cce3' ])\n",
        "ax.set_ylabel('Metrics')\n",
        "ax.set_xticks(x)\n",
        "ax.set_xticklabels(labels, rotation=45, fontsize=12)\n",
        "ax.yaxis.set_visible(False)\n",
        "autolabel(r)\n",
        "plt.title('Performance III ondata RF (Hospital target, threshold 0.36)', fontsize=12)\n",
        "#plt.show()\n",
        "#plt.savefig(ROOT_PATH + 'alfabeto_testset_metrics_averaged_thr05.png', dpi=300)\n"
      ],
      "execution_count": null,
      "outputs": [
        {
          "output_type": "execute_result",
          "data": {
            "text/plain": [
              "Text(0.5, 1.0, 'Performance III ondata RF (Hospital target, threshold 0.36)')"
            ]
          },
          "metadata": {},
          "execution_count": 90
        },
        {
          "output_type": "display_data",
          "data": {
            "image/png": "[encoded data removed]",
            "text/plain": [
              "<Figure size 576x576 with 1 Axes>"
            ]
          },
          "metadata": {
            "needs_background": "light"
          }
        }
      ]
    },
    {
      "cell_type": "code",
      "metadata": {
        "id": "aUOw_mkf9Cbb"
      },
      "source": [
        ""
      ],
      "execution_count": null,
      "outputs": []
    }
  ]
}